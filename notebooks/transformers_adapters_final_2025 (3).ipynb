{
  "cells": [
    {
      "cell_type": "markdown",
      "source": [
        "# Сравнение дообучения Transformers и Adapters\n",
        "\n",
        "## Цель\n",
        "Сравнить производительность и эффективность дообучения модели BERT и DistilBERT полное и с адаптерами на задаче классификации новостей (AG News).\n",
        "\n",
        "## Методология\n",
        "- **Датасет**: AG News (4 класса: World, Sports, Business, Sci/Tech)\n",
        "- **Модели**:\n",
        "  - BERT-base-uncased\n",
        "  - DistilBERT-base-uncased\n",
        "  - Адаптеры SeqBn\n",
        "- **Метрики**: Accuracy, Precision, Recall, F1 (macro-averaged)\n",
        "- **Гиперпараметры**:\n",
        "  - Эпохи: 8\n",
        "  - Размер батча: 32\n",
        "  - Скорость обучения: 2e-5"
      ],
      "metadata": {
        "id": "ptgZYhNP0JpJ"
      }
    },
    {
      "cell_type": "markdown",
      "metadata": {
        "id": "zsDRe9bi7yWC"
      },
      "source": [
        "## Environment loading"
      ]
    },
    {
      "cell_type": "markdown",
      "source": [
        "Устанавливаются следующие библиотеки:\n",
        "\n",
        "* transformers – библиотека от Hugging Face для работы с NLP-моделями (BERT, GPT и др.).\n",
        "\n",
        "* evaluate – инструменты для оценки моделей машинного обучения.\n",
        "\n",
        "* datasets – датасеты для NLP от Hugging Face.\n",
        "\n",
        "* wandb – Weights & Biases, инструмент для трекинга ML-экспериментов.\n",
        "\n",
        "* adapters – адаптеры для тонкой настройки моделей (например, AdapterHub)."
      ],
      "metadata": {
        "id": "RFlTqHwt2Qdb"
      }
    },
    {
      "cell_type": "code",
      "execution_count": 22,
      "metadata": {
        "id": "20qoTn_DfKx6"
      },
      "outputs": [],
      "source": [
        "!pip install -q transformers==4.48.3 evaluate==0.4.3 datasets==3.6.0 wandb==0.19.10 adapters==1.1.1 # -q для тихой установки"
      ]
    },
    {
      "cell_type": "code",
      "execution_count": 23,
      "metadata": {
        "id": "WuCGzswmmTL7"
      },
      "outputs": [],
      "source": [
        "# Стандартные библиотеки\n",
        "import os\n",
        "import gc\n",
        "import time\n",
        "import random\n",
        "from datetime import datetime\n",
        "import numpy as np\n",
        "import pandas as pd\n",
        "from IPython.display import display, HTML\n",
        "\n",
        "# Сторонние библиотеки\n",
        "import torch\n",
        "import wandb\n",
        "import evaluate\n",
        "import datasets\n",
        "from sklearn.model_selection import train_test_split\n",
        "\n",
        "# Transformers и Adapters\n",
        "from transformers import (\n",
        "    pipeline,\n",
        "    AutoTokenizer,\n",
        "    AutoModelForSequenceClassification,\n",
        "    DataCollatorWithPadding,\n",
        "    TrainingArguments,\n",
        "    Trainer,\n",
        "    EarlyStoppingCallback,\n",
        ")\n",
        "from adapters import (\n",
        "    AutoAdapterModel,\n",
        "    SeqBnConfig,\n",
        "    init,\n",
        ")\n",
        "\n",
        "# Оптимизация инициализации WANDB\n",
        "use_wandb = True\n",
        "if use_wandb:\n",
        "    os.environ[\"WANDB_API_KEY\"] = \"b23d2ea7b9cd7899f894c389ecd999f17367498c\"\n",
        "    os.environ[\"WANDB_PROJECT\"] = \"SentAnalysis_BERT_vs_Adapter_DistilBERT\"\n",
        "    os.environ[\"WANDB_LOG_MODEL\"] = \"end\"\n",
        "    os.environ[\"WANDB_WATCH\"] = \"gradients\"\n",
        "    wandb.login()\n",
        "else:\n",
        "    os.environ[\"WANDB_MODE\"] = \"disabled\""
      ]
    },
    {
      "cell_type": "code",
      "execution_count": 24,
      "metadata": {
        "colab": {
          "base_uri": "https://localhost:8080/"
        },
        "id": "cKkQH-uxoQIe",
        "outputId": "de317bd8-876d-45ee-988e-713e3ba43e04"
      },
      "outputs": [
        {
          "output_type": "stream",
          "name": "stdout",
          "text": [
            "Using GPU: Tesla T4\n"
          ]
        }
      ],
      "source": [
        "# проверим доступность GPU (CUDA) и настроим PyTorch для оптимальной работы\n",
        "if torch.cuda.is_available():\n",
        "    torch.backends.cudnn.benchmark = True  # ускоряет свёртки на GPU\n",
        "    device = torch.device(\"cuda\")\n",
        "    print(f\"Using GPU: {torch.cuda.get_device_name(0)}\")\n",
        "else:\n",
        "    device = torch.device(\"cpu\")\n",
        "    print(\"Using CPU\")"
      ]
    },
    {
      "cell_type": "code",
      "source": [
        "# Установка seed для воспроизводимости результатов\n",
        "random.seed(42)        # Для встроенного модуля random (Python)\n",
        "np.random.seed(42)     # Для NumPy\n",
        "torch.manual_seed(42)  # Для PyTorch (CPU и CUDA)\n",
        "if torch.cuda.is_available():\n",
        "    torch.cuda.manual_seed_all(42)  # Для воспроизводимости на GPU\n",
        "\n",
        "# Гиперпараметры обучения\n",
        "num_train_epochs = 8    # Количество эпох обучения\n",
        "batch_size = 32         # Размер батча\n",
        "learning_rate = 2e-5    # Скорость обучения"
      ],
      "metadata": {
        "id": "45mafS3bMu8U"
      },
      "execution_count": 25,
      "outputs": []
    },
    {
      "cell_type": "markdown",
      "metadata": {
        "id": "SnxP7rF88Kh9"
      },
      "source": [
        "## Loading the dataset"
      ]
    },
    {
      "cell_type": "markdown",
      "source": [
        "Загрузим датасет AG News (новостной классификационный датасет)\n",
        "\n",
        "**Источник**: Собран из новостных статей 4-х категорий:\n",
        "* World - 0;\n",
        "* Sports - 1;\n",
        "* Business - 2;\n",
        "* Sci/Tech - 3.\n",
        "\n",
        "**Размер**: 120K примеров (30K на класс).\n",
        "\n",
        "**Структура**:\n",
        "\n",
        "* train (обучающая выборка) – 120,000 примеров;\n",
        "\n",
        "* test (тестовая выборка) – 7,600 примеров.\n",
        "\n",
        "https://huggingface.co/datasets/fancyzhx/ag_news"
      ],
      "metadata": {
        "id": "4z4u6hhS3vI4"
      }
    },
    {
      "cell_type": "code",
      "execution_count": 26,
      "metadata": {
        "colab": {
          "base_uri": "https://localhost:8080/"
        },
        "id": "g6PObf5FmTL9",
        "outputId": "aac511fa-efa7-4981-88bf-2c6e3096e63e"
      },
      "outputs": [
        {
          "output_type": "execute_result",
          "data": {
            "text/plain": [
              "{'text': 'Comets, Asteroids and Planets around a Nearby Star (SPACE.com) SPACE.com - A nearby star thought to harbor comets and asteroids now appears to be home to planets, too. The presumed worlds are smaller than Jupiter and could be as tiny as Pluto, new observations suggest.',\n",
              " 'label': 3}"
            ]
          },
          "metadata": {},
          "execution_count": 26
        }
      ],
      "source": [
        "dataset = datasets.load_dataset(\"ag_news\")\n",
        "dataset[\"train\"][100] #выведем 101-ый элемент датасета"
      ]
    },
    {
      "cell_type": "code",
      "execution_count": 27,
      "metadata": {
        "id": "3fPJ9iQP2B37"
      },
      "outputs": [],
      "source": [
        "def show_random_elements(dataset, num_examples=10):\n",
        "    \"\"\"Отображает случайные примеры из датасета в виде форматированной HTML-таблицы.\n",
        "\n",
        "    Преобразует числовые метки классов в текстовые названия (если возможно)\n",
        "    и выводит результат в Jupyter Notebook как интерактивную таблицу.\n",
        "    Args:\n",
        "        dataset (datasets.Dataset): Датасет из библиотеки HuggingFace datasets\n",
        "        num_examples (int): Количество случайных примеров для отображения (по умолчанию 10)\n",
        "    Returns:\n",
        "        None: Результат выводится как HTML-таблица в Jupyter Notebook\n",
        "    \"\"\"\n",
        "    assert num_examples <= len(dataset), \"Can't pick more elements than there are in the dataset.\"\n",
        "    picks = random.sample(range(len(dataset)), num_examples)\n",
        "    df = pd.DataFrame(dataset[picks])\n",
        "\n",
        "    # Преобразование числовых меток в текстовые названия классов\n",
        "    for column, typ in dataset.features.items():\n",
        "        if isinstance(typ, datasets.ClassLabel):\n",
        "            df[column] = df[column].transform(lambda i: typ.names[i])\n",
        "\n",
        "    # Красивый вывод в Jupyter Notebook\n",
        "    display(HTML(df.to_html(classes=\"table table-striped table-bordered\")))"
      ]
    },
    {
      "cell_type": "code",
      "execution_count": 28,
      "metadata": {
        "colab": {
          "base_uri": "https://localhost:8080/",
          "height": 449
        },
        "id": "MmK5YUeh2C9_",
        "outputId": "21600b10-d7e9-41c4-ea63-d9443a9e38b3"
      },
      "outputs": [
        {
          "output_type": "display_data",
          "data": {
            "text/plain": [
              "<IPython.core.display.HTML object>"
            ],
            "text/html": [
              "<table border=\"1\" class=\"dataframe table table-striped table-bordered\">\n",
              "  <thead>\n",
              "    <tr style=\"text-align: right;\">\n",
              "      <th></th>\n",
              "      <th>text</th>\n",
              "      <th>label</th>\n",
              "    </tr>\n",
              "  </thead>\n",
              "  <tbody>\n",
              "    <tr>\n",
              "      <th>0</th>\n",
              "      <td>Policeman 'saw fatal train crash' An off-duty policeman watched a train plough into a car on a level crossing  in Berkshire, killing six people.</td>\n",
              "      <td>World</td>\n",
              "    </tr>\n",
              "    <tr>\n",
              "      <th>1</th>\n",
              "      <td>Silver finale for USA In the last event of the 2004 Olympic Games, the United States track team produced one last surprise. Meb Keflezighi, a native of Eritrea who moved to the United States as</td>\n",
              "      <td>Sports</td>\n",
              "    </tr>\n",
              "    <tr>\n",
              "      <th>2</th>\n",
              "      <td>Compuware Blasts IBM #39;s Legal Tactics Two years ago, IBM was ordered to produce the source code for its products, which Compuware identified as containing its pirated intellectual property. The code was missing. But lo and behold -- last week, they called and said they had it, quot; ...</td>\n",
              "      <td>Sci/Tech</td>\n",
              "    </tr>\n",
              "    <tr>\n",
              "      <th>3</th>\n",
              "      <td>Polish Hostage Freed in Iraq Already in Warsaw  WARSAW (Reuters) - A Polish woman kidnapped in Iraq last  month has been freed and flown to Poland and said she was  treated well, raising hopes for other foreign hostages.</td>\n",
              "      <td>World</td>\n",
              "    </tr>\n",
              "    <tr>\n",
              "      <th>4</th>\n",
              "      <td>Growth forecast revised up to 7.5pc The Asian Development Bank has revised up its economic growth forecast for Hong Kong this year to 7.5 per cent from the 6 per cent it projected in April, due to stronger than expected retail sales and the surge in tourist arrivals.</td>\n",
              "      <td>Business</td>\n",
              "    </tr>\n",
              "    <tr>\n",
              "      <th>5</th>\n",
              "      <td>File and Printer Sharing Insecure in XP SP2 ProKras writes  quot;German magazine PC-Welt has discovered a major security flaw in Windows XP SP2 when installing over SP1. The article says that  #39;with a certain configuration, your file and printer sharing data</td>\n",
              "      <td>Sci/Tech</td>\n",
              "    </tr>\n",
              "    <tr>\n",
              "      <th>6</th>\n",
              "      <td>Wall Street Journal to Start Saturday Issue he Wall Street Journal announced yesterday that it would begin publishing a Saturday issue starting in the fall of 2005. By following its business readers home for the weekend, the newspaper</td>\n",
              "      <td>Business</td>\n",
              "    </tr>\n",
              "    <tr>\n",
              "      <th>7</th>\n",
              "      <td>EU, Japan win WTO approval to impose duties on US The European Union, Japan, Brazil and five other countries won World Trade Organization approval to impose tariffs worth more than \\$150 million a year on imports from the United</td>\n",
              "      <td>Business</td>\n",
              "    </tr>\n",
              "    <tr>\n",
              "      <th>8</th>\n",
              "      <td>Greenspan Warns That US Deficits Pose Risk to Dollar Alan Greenspan came to the home of the euro today and warned anxious Europeans to expect little relief from the relentless decline of the dollar against their currency.</td>\n",
              "      <td>Business</td>\n",
              "    </tr>\n",
              "    <tr>\n",
              "      <th>9</th>\n",
              "      <td>Rivers Hot, Then Cold San Diego Chargers quarterback began the night with three straight completions. Unfortunately, after seven more attempts, he still had only three, plus two interceptions vs. Seattle on Friday.</td>\n",
              "      <td>Sports</td>\n",
              "    </tr>\n",
              "  </tbody>\n",
              "</table>"
            ]
          },
          "metadata": {}
        }
      ],
      "source": [
        "# выведем 10 случайных элементов датасета\n",
        "show_random_elements(dataset[\"train\"], 10)"
      ]
    },
    {
      "cell_type": "markdown",
      "metadata": {
        "id": "bb6OAYaR9gpk"
      },
      "source": [
        "## Preprocessing the data"
      ]
    },
    {
      "cell_type": "markdown",
      "metadata": {
        "id": "qFsAOoRJ9saY"
      },
      "source": [
        "Прежде чем мы сможем передать эти тексты нашей модели, нам нужно их предварительно обработать. Это делается с помощью Transformers Tokenizer, который (как следует из названия) токенизирует входные данные (включая преобразование токенов в соответствующие им идентификаторы в предварительно обученном словаре) и преобразует их в формат, ожидаемый моделью, а также генерирует другие входные данные, требуемые моделью.\n",
        "\n",
        "Чтобы сделать все это, мы создаем экземпляр нашего токенизатора с помощью метода AutoTokenizer.from_pretrained, который гарантирует:\n",
        "\n",
        "- мы получаем токенизатор, соответствующий архитектуре модели, которую мы хотим использовать,\n",
        "- мы загружаем словарь, используемый при предварительном обучении этой конкретной контрольной точки."
      ]
    },
    {
      "cell_type": "code",
      "execution_count": 29,
      "metadata": {
        "id": "9xPdElnYmTL-"
      },
      "outputs": [],
      "source": [
        "# Загрузка предобученного токенизатора BERT (версия base, без учета регистра)\n",
        "tokenizer = AutoTokenizer.from_pretrained(\"bert-base-uncased\")"
      ]
    },
    {
      "cell_type": "code",
      "execution_count": 30,
      "metadata": {
        "colab": {
          "base_uri": "https://localhost:8080/"
        },
        "id": "B0n_q-CC_F5L",
        "outputId": "b5f6e1e8-915d-4772-e76a-88c65520c221"
      },
      "outputs": [
        {
          "output_type": "execute_result",
          "data": {
            "text/plain": [
              "{'input_ids': tensor([[ 101, 7592, 1010, 2023, 2028, 6251,  999,  102, 1998, 2023, 6251, 3632,\n",
              "         2007, 2009, 1012,  102]]), 'token_type_ids': tensor([[0, 0, 0, 0, 0, 0, 0, 0, 1, 1, 1, 1, 1, 1, 1, 1]]), 'attention_mask': tensor([[1, 1, 1, 1, 1, 1, 1, 1, 1, 1, 1, 1, 1, 1, 1, 1]])}"
            ]
          },
          "metadata": {},
          "execution_count": 30
        }
      ],
      "source": [
        "# Токенизация пары предложений\n",
        "encoded_input = tokenizer(\n",
        "    \"Hello, this one sentence!\",  # Первое предложение\n",
        "    \"And this sentence goes with it.\",  # Второе предложение\n",
        "    padding=True,  # Дополнение до максимальной длины\n",
        "    truncation=True,  # Обрезка если текст длиннее максимального размера\n",
        "    return_tensors=\"pt\"  # Возврат тензоров PyTorch\n",
        ")\n",
        "encoded_input\n",
        "# Результат содержит:\n",
        "# input_ids - индексы токенов\n",
        "# token_type_ids - идентификаторы предложений (0/1)\n",
        "# attention_mask - маска внимания (1 - реальные токены, 0 - паддинг)"
      ]
    },
    {
      "cell_type": "markdown",
      "metadata": {
        "id": "p_8Rt6beAny1"
      },
      "source": [
        "Для предварительной обработки нашего набора данных нам понадобятся имена столбцов, содержащих предложение(я). Следующий словарь отслеживает задачу соответствия именам столбцов:"
      ]
    },
    {
      "cell_type": "code",
      "execution_count": 31,
      "metadata": {
        "colab": {
          "base_uri": "https://localhost:8080/",
          "height": 49,
          "referenced_widgets": [
            "b49ce2cd486d45e0ae39ec2ab6aacdc1",
            "1c40316e629149f6a4c222972f37a53f",
            "e9854d7f810b44788856dadfb0887601",
            "7929987f169349868e64df0be1e9f09f",
            "003b294de00e4ecab4eb4d47e7268045",
            "d59b2d867c6e4a458c29bf943e660959",
            "94c66fc3a7a84112a6db668bf969e9fd",
            "a9b224c386f641699e6071b8c7c552d2",
            "0cd02103a778409d882f4723ce4341bc",
            "a8cfcd299d624a9aa70f1647b1884751",
            "2f9909f2d15f49199760ac660c5ac3d2"
          ]
        },
        "id": "gWN9ekEK-2BS",
        "outputId": "1764b480-c8e3-4ce2-9344-a6a440a672ab"
      },
      "outputs": [
        {
          "output_type": "display_data",
          "data": {
            "text/plain": [
              "Map:   0%|          | 0/7600 [00:00<?, ? examples/s]"
            ],
            "application/vnd.jupyter.widget-view+json": {
              "version_major": 2,
              "version_minor": 0,
              "model_id": "b49ce2cd486d45e0ae39ec2ab6aacdc1"
            }
          },
          "metadata": {}
        }
      ],
      "source": [
        "def tokenize_function(examples):\n",
        "    \"\"\"Применяет токенизатор к пакету примеров текста.\n",
        "\n",
        "    Args:\n",
        "        examples (dict): Пакет примеров из датасета, содержащий ключ \"text\"\n",
        "\n",
        "    Returns:\n",
        "        dict: Словарь с токенизированными результатами:\n",
        "            - input_ids: списки идентификаторов токенов\n",
        "            - attention_mask: маски внимания (1 для реальных токенов)\n",
        "            (без padding для эффективной пакетной обработки)\n",
        "    \"\"\"\n",
        "    return tokenizer(examples[\"text\"], truncation=True)  # Без padding!\n",
        "tokenized_datasets = dataset.map(tokenize_function,\n",
        "    batched=True  # Обработка пакетами для ускорения\n",
        ")"
      ]
    },
    {
      "cell_type": "markdown",
      "metadata": {
        "id": "dVGCjx1gCjx_"
      },
      "source": [
        "Библиотека Datasets автоматически кэширует результаты предобработки, что позволяет избежать повторных вычислений при следующем запуске блокнота. При этом Datasets достаточно интеллектуальна, чтобы определить, была ли изменена функция, переданная в map — в таком случае кэш не используется. Например, если вы измените задачу в первой ячейке и перезапустите ноутбук, библиотека корректно распознает это и обновит данные.\n",
        "\n",
        "Если вы хотите отключить использование кэша (например, для принудительного повторения предобработки), передайте аргумент load_from_cache_file=False в метод map. В этом случае Datasets предупредит вас о том, что кэшированные данные не загружаются.\n",
        "\n",
        "Пакетная обработка\n",
        "Мы также указали batched=True, чтобы токенизировать тексты не по одному, а целыми партиями. Это особенно важно для эффективного использования быстрого токенизатора (например, Rust-реализации в Hugging Face), который задействует многопоточность для параллельной обработки текстов в пакете."
      ]
    },
    {
      "cell_type": "code",
      "execution_count": 32,
      "metadata": {
        "colab": {
          "base_uri": "https://localhost:8080/"
        },
        "id": "fg2JyF2YBpfy",
        "outputId": "8ccc5354-78cf-4a51-d802-2dd31a4f3ee6"
      },
      "outputs": [
        {
          "output_type": "execute_result",
          "data": {
            "text/plain": [
              "DatasetDict({\n",
              "    train: Dataset({\n",
              "        features: ['text', 'label', 'input_ids', 'token_type_ids', 'attention_mask'],\n",
              "        num_rows: 120000\n",
              "    })\n",
              "    test: Dataset({\n",
              "        features: ['text', 'label', 'input_ids', 'token_type_ids', 'attention_mask'],\n",
              "        num_rows: 7600\n",
              "    })\n",
              "})"
            ]
          },
          "metadata": {},
          "execution_count": 32
        }
      ],
      "source": [
        "tokenized_datasets"
      ]
    },
    {
      "cell_type": "code",
      "source": [
        "#Для уменьшения занимаемой оперативной памяти, удалим исходный текст\n",
        "tokenized_datasets = tokenized_datasets.remove_columns([\"text\"])"
      ],
      "metadata": {
        "id": "JG87W7t79aSu"
      },
      "execution_count": 33,
      "outputs": []
    },
    {
      "cell_type": "markdown",
      "source": [
        "Выполним разделение датасета на обучающую, валидационную и тестовую выборки, включая создание стратифицированных подмножеств."
      ],
      "metadata": {
        "id": "JFS5M0io-EiJ"
      }
    },
    {
      "cell_type": "code",
      "execution_count": 34,
      "metadata": {
        "id": "Yla2VDYCmTL_"
      },
      "outputs": [],
      "source": [
        "train_val_split = tokenized_datasets[\"train\"].train_test_split(test_size=0.1, seed=42)\n",
        "full_train_dataset = train_val_split[\"train\"]   # 108,000 примеров (90%)\n",
        "full_eval_dataset = train_val_split[\"test\"]     # 12,000 примеров (10%)\n",
        "full_test_dataset = tokenized_datasets[\"test\"]  # 7,600 (исходный тестовый набор)\n",
        "\n",
        "def stratified_subset(dataset, size, seed=42):\n",
        "    \"\"\"Создает стратифицированную подвыборку, сохраняя распределение классов.\"\"\"\n",
        "    labels = dataset[\"label\"]\n",
        "    indices = np.arange(len(dataset))\n",
        "    _, subset_indices = train_test_split(\n",
        "        indices, test_size=size, stratify=labels, random_state=seed\n",
        "    )\n",
        "    return dataset.select(subset_indices)\n",
        "\n",
        "small_train_dataset = stratified_subset(tokenized_datasets[\"train\"], size=21600, seed=42)  # ~20% от train\n",
        "small_eval_dataset = stratified_subset(tokenized_datasets[\"train\"], size=9600, seed=42)    # ~8% от train\n",
        "small_test_dataset = tokenized_datasets[\"test\"].shuffle(seed=42).select(range(3800))       # 50% от test\n",
        "\n",
        "train_dataset, eval_dataset, test_dataset = small_train_dataset, small_eval_dataset, small_test_dataset\n",
        "# Альтернатива: full_train_dataset, full_eval_dataset, full_test_dataset"
      ]
    },
    {
      "cell_type": "markdown",
      "source": [
        "## Load metrics\n",
        "\n",
        "Для объективной оценки модели мы будем использовать стандартные метрики из библиотеки evaluate. Этот пакет предоставляет:\n",
        "\n",
        "* Предопределённые метрики (точность, F1, recall и другие) с оптимизированными\n",
        "реализациями.\n",
        "\n",
        "* Стандартизированный интерфейс для вычислений, совместимый с 🤗 Transformers.\n",
        "\n",
        "* Воспроизводимость — гарантия одинаковых результатов при одинаковых входных данных."
      ],
      "metadata": {
        "id": "R1lVdl5N-h9b"
      }
    },
    {
      "cell_type": "code",
      "execution_count": 35,
      "metadata": {
        "id": "2RtMb7d1mTMA"
      },
      "outputs": [],
      "source": [
        "# Загрузка метрик классификации\n",
        "accuracy_metric = evaluate.load(\"accuracy\")    # Точность (доля правильных ответов)\n",
        "recall_metric = evaluate.load(\"recall\")       # Полнота (способность находить все положительные случаи)\n",
        "precision_metric = evaluate.load(\"precision\") # Точность (доля релевантных результатов среди предсказанных)\n",
        "f1_metric = evaluate.load(\"f1\")               # F1-score (гармоническое среднее precision и recall)"
      ]
    },
    {
      "cell_type": "code",
      "execution_count": 36,
      "metadata": {
        "id": "7GhVddtQqe3H"
      },
      "outputs": [],
      "source": [
        "def compute_metrics(eval_pred):\n",
        "    \"\"\"Вычисляет метрики качества классификации для оценки модели.\n",
        "\n",
        "    Args:\n",
        "        eval_pred (tuple): Кортеж, содержащий:\n",
        "            - logits (np.ndarray): Предсказания модели (до преобразования в вероятности)\n",
        "            - labels (np.ndarray): Истинные метки классов\n",
        "\n",
        "    Returns:\n",
        "        dict: Словарь с вычисленными метриками:\n",
        "            - accuracy (точность)\n",
        "            - recall (полнота)\n",
        "            - precision (точность для классов)\n",
        "            - f1 (F1-мера)\n",
        "\n",
        "    Примечания:\n",
        "        - Использует макро-усреднение для многоклассовой классификации (все классы равнозначны)\n",
        "        - Подходит как для бинарной, так и для многоклассовой классификации\n",
        "        - Совместима с Hugging Face Trainer\n",
        "    \"\"\"\n",
        "    logits, labels = eval_pred\n",
        "    predictions = np.argmax(logits, axis=-1)\n",
        "    accuracy = accuracy_metric.compute(predictions=predictions, references=labels)['accuracy']\n",
        "    recall = recall_metric.compute(predictions=predictions, references=labels, average='macro')['recall']\n",
        "    precision = precision_metric.compute(predictions=predictions, references=labels, average='macro')['precision']\n",
        "    f1 = f1_metric.compute(predictions=predictions, references=labels, average='macro')['f1']\n",
        "\n",
        "    return {'accuracy': accuracy, 'recall': recall, 'precision': precision, 'f1': f1}"
      ]
    },
    {
      "cell_type": "markdown",
      "metadata": {
        "id": "jXW-4_4CzUUi"
      },
      "source": [
        "## Transformers model"
      ]
    },
    {
      "cell_type": "markdown",
      "source": [
        "### BERT"
      ],
      "metadata": {
        "id": "7sqPTYQs_0ph"
      }
    },
    {
      "cell_type": "markdown",
      "metadata": {
        "id": "xfdjjTSRDnOd"
      },
      "source": [
        "Загрузим предварительно обученную модель и настроим ее. Поскольку все наши задачи связаны с классификацией предложений, мы используем класс AutoModelForSequenceClassification. Как и в случае с токенизатором, метод from_pretrained загрузит и кэширует для нас модель. Единственное, что нам нужно указать, — это количество меток для нашей задачи.\n",
        "https://huggingface.co/google-bert/bert-base-uncased"
      ]
    },
    {
      "cell_type": "code",
      "execution_count": 37,
      "metadata": {
        "colab": {
          "base_uri": "https://localhost:8080/"
        },
        "id": "euVdK8ZsmTL_",
        "outputId": "d0666d73-4f24-4b97-9032-22f0e333b133"
      },
      "outputs": [
        {
          "output_type": "stream",
          "name": "stderr",
          "text": [
            "Some weights of BertForSequenceClassification were not initialized from the model checkpoint at bert-base-uncased and are newly initialized: ['classifier.bias', 'classifier.weight']\n",
            "You should probably TRAIN this model on a down-stream task to be able to use it for predictions and inference.\n"
          ]
        }
      ],
      "source": [
        "# Загрузка предобученной модели BERT для классификации текста\n",
        "model_bert = AutoModelForSequenceClassification.from_pretrained(\n",
        "    \"bert-base-uncased\",  # Название модели: BERT базовой версии (без учета регистра)\n",
        "    num_labels=4,         # Количество классов для классификации\n",
        "    ignore_mismatched_sizes=False  # Игнорировать несоответствия размеров выходного слоя\n",
        ")"
      ]
    },
    {
      "cell_type": "markdown",
      "source": [
        "Английская версия BERT (12 слоёв, 768 скрытых нейронов), не учитывает регистр (текст преобразуется в нижний регистр).\n",
        "\n",
        "Настройка:\n",
        "\n",
        "* num_labels=4 — классификация на 4 класса.\n",
        "\n",
        "* Автоматически добавляется классификационный слой.\n",
        "\n",
        "Внутренняя работа:\n",
        "\n",
        "* Загружаются предобученные веса BERT.\n",
        "\n",
        "* Последний слой заменяется на классификатор с 4 выходами.\n",
        "\n",
        "* Веса нового слоя инициализируются случайно."
      ],
      "metadata": {
        "id": "Ivwr0fFhBMRq"
      }
    },
    {
      "cell_type": "markdown",
      "metadata": {
        "id": "wP9vQz0SE_IQ"
      },
      "source": [
        "Для создания экземпляра Trainer нам нужно определить, помимо метрик, еще одну вещь. Наиболее важным является TrainingArguments, который является классом, содержащим все атрибуты для настройки обучения. Он требует одно имя папки, которое будет использоваться для сохранения контрольных точек модели, а все остальные аргументы являются необязательными"
      ]
    },
    {
      "cell_type": "code",
      "execution_count": 38,
      "metadata": {
        "colab": {
          "base_uri": "https://localhost:8080/"
        },
        "id": "myaRaqf3mTMB",
        "outputId": "e983dc16-1518-407e-faa8-8b7512c836a3"
      },
      "outputs": [
        {
          "output_type": "stream",
          "name": "stderr",
          "text": [
            "/usr/local/lib/python3.11/dist-packages/transformers/training_args.py:1575: FutureWarning: `evaluation_strategy` is deprecated and will be removed in version 4.46 of 🤗 Transformers. Use `eval_strategy` instead\n",
            "  warnings.warn(\n"
          ]
        }
      ],
      "source": [
        "training_args = TrainingArguments(\n",
        "    output_dir=\"./bert_agnews_results\",\n",
        "    evaluation_strategy=\"epoch\",\n",
        "    save_strategy=\"epoch\",\n",
        "    optim=\"adamw_torch\", #современный оптимизатор для трансформеров\n",
        "    learning_rate=learning_rate,\n",
        "    per_device_train_batch_size=batch_size,\n",
        "    per_device_eval_batch_size=batch_size,\n",
        "    num_train_epochs=num_train_epochs,\n",
        "    weight_decay=0.01,\n",
        "    load_best_model_at_end=True,\n",
        "    metric_for_best_model=\"f1\", #выбор модели по F1-score\n",
        "    greater_is_better=True,\n",
        "    report_to=\"wandb\", # визуализация в Weights & Biases\n",
        "    logging_steps=50, #частота вывода логов\n",
        "    save_total_limit=2, #предотвращает переполнение диска\n",
        "    fp16=True,  # Автоматически использует mixed precision если доступно\n",
        "    gradient_accumulation_steps=1, #полезно для больших батчей\n",
        "    warmup_ratio=0.1, #плавное увеличение learning rate в начале\n",
        ")"
      ]
    },
    {
      "cell_type": "code",
      "execution_count": 39,
      "metadata": {
        "id": "z0gP7m-AmTMB"
      },
      "outputs": [],
      "source": [
        "# Инициализация тренера для обучения модели\n",
        "trainer_bert = Trainer(\n",
        "    # Основные компоненты\n",
        "    model=model_bert,  # Загруженная ранее модель BERT для классификации\n",
        "    args=training_args,  # Параметры обучения, которые мы настроили ранее\n",
        "\n",
        "    # Данные для обучения и оценки\n",
        "    train_dataset=train_dataset,  # Обучающий датасет\n",
        "    eval_dataset=eval_dataset,    # Валидационный датасет\n",
        "\n",
        "    # Настройки обработки данных\n",
        "    data_collator=DataCollatorWithPadding(\n",
        "        tokenizer=tokenizer,  # Токенизатор для динамического добавления padding\n",
        "        padding='longest',    # Дополнение до длины самого длинного примера в батче\n",
        "        max_length=512,       # Максимальная длина последовательности (ограничение BERT)\n",
        "        return_tensors='pt'   # Возвращать тензоры PyTorch\n",
        "    ),\n",
        "\n",
        "    # Метрики оценки\n",
        "    compute_metrics=compute_metrics,  # Функция для расчета метрик качества\n",
        "\n",
        "    # Коллбэки\n",
        "    callbacks=[\n",
        "        EarlyStoppingCallback(\n",
        "            early_stopping_patience=3,  # Остановить обучение, если метрика не улучшается 3 эпохи\n",
        "            early_stopping_threshold=0.01  # Минимальное улучшение для продолжения обучения\n",
        "        )\n",
        "    ]\n",
        ")"
      ]
    },
    {
      "cell_type": "code",
      "source": [
        "# Инициализация мониторинга в Weights & Biases\n",
        "wandb.init(\n",
        "    project=\"SentAnalysis_BERT_vs_Adapter_DistilBERT\",  # Название проекта в W&B\n",
        "    config=training_args.to_dict(),  # Сохранение всех параметров обучения\n",
        "    name=f\"BERT-base-{datetime.now().strftime('%Y-%m-%d_%H-%M')}\",  # Уникальное имя запуска\n",
        "    tags=[\"baseline\", \"bert-base\"]  # Теги для фильтрации экспериментов\n",
        ")\n",
        "\n",
        "try:\n",
        "    # Основной цикл обучения\n",
        "    trainer_bert.train()  # Запуск обучения с ранней остановкой\n",
        "    trainer_bert.evaluate()\n",
        "finally:\n",
        "    # Обязательное завершение сессии W&B\n",
        "    wandb.finish()\n",
        "\n",
        "    # Оптимизация использования памяти GPU\n",
        "    torch.cuda.empty_cache()  # Очистка кэша CUDA\n",
        "    gc.collect()             # Запуск сборщика мусора"
      ],
      "metadata": {
        "colab": {
          "base_uri": "https://localhost:8080/",
          "height": 1000
        },
        "id": "HWXXFoFVEu_8",
        "outputId": "1c89e21f-ab1d-4918-bfd1-5ba263cc9224"
      },
      "execution_count": 40,
      "outputs": [
        {
          "data": {
            "text/html": [
              "Tracking run with wandb version 0.19.10"
            ],
            "text/plain": [
              "<IPython.core.display.HTML object>"
            ]
          },
          "metadata": {},
          "output_type": "display_data"
        },
        {
          "data": {
            "text/html": [
              "Run data is saved locally in <code>/content/wandb/run-20250509_132431-r84yv1cv</code>"
            ],
            "text/plain": [
              "<IPython.core.display.HTML object>"
            ]
          },
          "metadata": {},
          "output_type": "display_data"
        },
        {
          "data": {
            "text/html": [
              "Syncing run <strong><a href='https://wandb.ai/nedolivko/SentAnalysis_BERT_vs_Adapter_DistilBERT/runs/r84yv1cv' target=\"_blank\">BERT-base-2025-05-09_13-24</a></strong> to <a href='https://wandb.ai/nedolivko/SentAnalysis_BERT_vs_Adapter_DistilBERT' target=\"_blank\">Weights & Biases</a> (<a href='https://wandb.me/developer-guide' target=\"_blank\">docs</a>)<br>"
            ],
            "text/plain": [
              "<IPython.core.display.HTML object>"
            ]
          },
          "metadata": {},
          "output_type": "display_data"
        },
        {
          "data": {
            "text/html": [
              " View project at <a href='https://wandb.ai/nedolivko/SentAnalysis_BERT_vs_Adapter_DistilBERT' target=\"_blank\">https://wandb.ai/nedolivko/SentAnalysis_BERT_vs_Adapter_DistilBERT</a>"
            ],
            "text/plain": [
              "<IPython.core.display.HTML object>"
            ]
          },
          "metadata": {},
          "output_type": "display_data"
        },
        {
          "data": {
            "text/html": [
              " View run at <a href='https://wandb.ai/nedolivko/SentAnalysis_BERT_vs_Adapter_DistilBERT/runs/r84yv1cv' target=\"_blank\">https://wandb.ai/nedolivko/SentAnalysis_BERT_vs_Adapter_DistilBERT/runs/r84yv1cv</a>"
            ],
            "text/plain": [
              "<IPython.core.display.HTML object>"
            ]
          },
          "metadata": {},
          "output_type": "display_data"
        },
        {
          "data": {
            "text/html": [
              "\n",
              "    <div>\n",
              "      \n",
              "      <progress value='4050' max='5400' style='width:300px; height:20px; vertical-align: middle;'></progress>\n",
              "      [4050/5400 15:21 < 05:07, 4.39 it/s, Epoch 6/8]\n",
              "    </div>\n",
              "    <table border=\"1\" class=\"dataframe\">\n",
              "  <thead>\n",
              " <tr style=\"text-align: left;\">\n",
              "      <th>Epoch</th>\n",
              "      <th>Training Loss</th>\n",
              "      <th>Validation Loss</th>\n",
              "      <th>Accuracy</th>\n",
              "      <th>Recall</th>\n",
              "      <th>Precision</th>\n",
              "      <th>F1</th>\n",
              "    </tr>\n",
              "  </thead>\n",
              "  <tbody>\n",
              "    <tr>\n",
              "      <td>1</td>\n",
              "      <td>0.258800</td>\n",
              "      <td>0.181073</td>\n",
              "      <td>0.940104</td>\n",
              "      <td>0.940104</td>\n",
              "      <td>0.940065</td>\n",
              "      <td>0.939986</td>\n",
              "    </tr>\n",
              "    <tr>\n",
              "      <td>2</td>\n",
              "      <td>0.162900</td>\n",
              "      <td>0.098053</td>\n",
              "      <td>0.970000</td>\n",
              "      <td>0.970000</td>\n",
              "      <td>0.970867</td>\n",
              "      <td>0.969988</td>\n",
              "    </tr>\n",
              "    <tr>\n",
              "      <td>3</td>\n",
              "      <td>0.105700</td>\n",
              "      <td>0.053934</td>\n",
              "      <td>0.985000</td>\n",
              "      <td>0.985000</td>\n",
              "      <td>0.985114</td>\n",
              "      <td>0.985004</td>\n",
              "    </tr>\n",
              "    <tr>\n",
              "      <td>4</td>\n",
              "      <td>0.071800</td>\n",
              "      <td>0.023712</td>\n",
              "      <td>0.993229</td>\n",
              "      <td>0.993229</td>\n",
              "      <td>0.993245</td>\n",
              "      <td>0.993232</td>\n",
              "    </tr>\n",
              "    <tr>\n",
              "      <td>5</td>\n",
              "      <td>0.056500</td>\n",
              "      <td>0.009202</td>\n",
              "      <td>0.997708</td>\n",
              "      <td>0.997708</td>\n",
              "      <td>0.997710</td>\n",
              "      <td>0.997708</td>\n",
              "    </tr>\n",
              "    <tr>\n",
              "      <td>6</td>\n",
              "      <td>0.023400</td>\n",
              "      <td>0.005069</td>\n",
              "      <td>0.998750</td>\n",
              "      <td>0.998750</td>\n",
              "      <td>0.998752</td>\n",
              "      <td>0.998750</td>\n",
              "    </tr>\n",
              "  </tbody>\n",
              "</table><p>"
            ],
            "text/plain": [
              "<IPython.core.display.HTML object>"
            ]
          },
          "metadata": {},
          "output_type": "display_data"
        },
        {
          "data": {
            "text/html": [
              "\n",
              "    <div>\n",
              "      \n",
              "      <progress value='300' max='300' style='width:300px; height:20px; vertical-align: middle;'></progress>\n",
              "      [300/300 00:15]\n",
              "    </div>\n",
              "    "
            ],
            "text/plain": [
              "<IPython.core.display.HTML object>"
            ]
          },
          "metadata": {},
          "output_type": "display_data"
        },
        {
          "data": {
            "text/html": [
              "uploading artifact model-r84yv1cv (19s)<br>  ↳ model.safetensors 411.0MB/417.7MB (19s)"
            ],
            "text/plain": [
              "<IPython.core.display.HTML object>"
            ]
          },
          "metadata": {},
          "output_type": "display_data"
        },
        {
          "output_type": "display_data",
          "data": {
            "text/plain": [
              "<IPython.core.display.HTML object>"
            ],
            "text/html": []
          },
          "metadata": {}
        },
        {
          "output_type": "display_data",
          "data": {
            "text/plain": [
              "<IPython.core.display.HTML object>"
            ],
            "text/html": [
              "<br>    <style><br>        .wandb-row {<br>            display: flex;<br>            flex-direction: row;<br>            flex-wrap: wrap;<br>            justify-content: flex-start;<br>            width: 100%;<br>        }<br>        .wandb-col {<br>            display: flex;<br>            flex-direction: column;<br>            flex-basis: 100%;<br>            flex: 1;<br>            padding: 10px;<br>        }<br>    </style><br><div class=\"wandb-row\"><div class=\"wandb-col\"><h3>Run history:</h3><br/><table class=\"wandb\"><tr><td>eval/accuracy</td><td>▁▅▆▇███</td></tr><tr><td>eval/f1</td><td>▁▅▆▇███</td></tr><tr><td>eval/loss</td><td>█▅▃▂▁▁▁</td></tr><tr><td>eval/precision</td><td>▁▅▆▇███</td></tr><tr><td>eval/recall</td><td>▁▅▆▇███</td></tr><tr><td>eval/runtime</td><td>▁▂▄▃█▆▅</td></tr><tr><td>eval/samples_per_second</td><td>█▇▅▆▁▃▄</td></tr><tr><td>eval/steps_per_second</td><td>█▇▅▆▁▃▄</td></tr><tr><td>train/epoch</td><td>▁▁▁▁▁▂▂▂▂▂▂▂▂▂▃▃▃▃▄▄▅▅▅▅▅▅▆▆▆▆▆▇▇▇▇▇▇███</td></tr><tr><td>train/global_step</td><td>▁▁▁▁▂▂▂▂▂▂▃▃▃▄▄▄▄▄▄▄▅▅▅▅▆▆▆▆▆▆▆▆▇▇▇▇████</td></tr><tr><td>train/grad_norm</td><td>▃▂▃▃▃▃▂▂▃▂▅▄▃▃▃▁▃▂▃▂▂▃▁▂▂▅▁▁▂▁▁▁▁▁▁▃▁▁▁█</td></tr><tr><td>train/learning_rate</td><td>▇████▇▇▇▇▇▇▆▆▆▆▆▆▆▅▅▅▅▅▄▄▄▄▄▄▃▃▃▂▂▂▂▂▁▁▁</td></tr><tr><td>train/loss</td><td>█▄▃▃▃▂▂▂▂▂▂▂▂▂▂▁▂▂▁▂▂▂▁▁▁▁▁▁▁▁▁▁▁▁▁▁▁▁▁▁</td></tr></table><br/></div><div class=\"wandb-col\"><h3>Run summary:</h3><br/><table class=\"wandb\"><tr><td>eval/accuracy</td><td>0.99875</td></tr><tr><td>eval/f1</td><td>0.99875</td></tr><tr><td>eval/loss</td><td>0.00507</td></tr><tr><td>eval/precision</td><td>0.99875</td></tr><tr><td>eval/recall</td><td>0.99875</td></tr><tr><td>eval/runtime</td><td>15.2733</td></tr><tr><td>eval/samples_per_second</td><td>628.548</td></tr><tr><td>eval/steps_per_second</td><td>19.642</td></tr><tr><td>total_flos</td><td>7514603124278016.0</td></tr><tr><td>train/epoch</td><td>6</td></tr><tr><td>train/global_step</td><td>4050</td></tr><tr><td>train/grad_norm</td><td>23.54976</td></tr><tr><td>train/learning_rate</td><td>1e-05</td></tr><tr><td>train/loss</td><td>0.0234</td></tr><tr><td>train_loss</td><td>0.15816</td></tr><tr><td>train_runtime</td><td>914.3503</td></tr><tr><td>train_samples_per_second</td><td>188.987</td></tr><tr><td>train_steps_per_second</td><td>5.906</td></tr></table><br/></div></div>"
            ]
          },
          "metadata": {}
        },
        {
          "output_type": "display_data",
          "data": {
            "text/plain": [
              "<IPython.core.display.HTML object>"
            ],
            "text/html": [
              " View run <strong style=\"color:#cdcd00\">BERT-base-2025-05-09_13-24</strong> at: <a href='https://wandb.ai/nedolivko/SentAnalysis_BERT_vs_Adapter_DistilBERT/runs/r84yv1cv' target=\"_blank\">https://wandb.ai/nedolivko/SentAnalysis_BERT_vs_Adapter_DistilBERT/runs/r84yv1cv</a><br> View project at: <a href='https://wandb.ai/nedolivko/SentAnalysis_BERT_vs_Adapter_DistilBERT' target=\"_blank\">https://wandb.ai/nedolivko/SentAnalysis_BERT_vs_Adapter_DistilBERT</a><br>Synced 5 W&B file(s), 0 media file(s), 6 artifact file(s) and 0 other file(s)"
            ]
          },
          "metadata": {}
        },
        {
          "output_type": "display_data",
          "data": {
            "text/plain": [
              "<IPython.core.display.HTML object>"
            ],
            "text/html": [
              "Find logs at: <code>./wandb/run-20250509_132431-r84yv1cv/logs</code>"
            ]
          },
          "metadata": {}
        }
      ]
    },
    {
      "cell_type": "markdown",
      "metadata": {
        "id": "B8aoJ608eB5A"
      },
      "source": [
        "### DistilBERT"
      ]
    },
    {
      "cell_type": "markdown",
      "source": [
        "Аналогично проведем дообучение модели DistilBERT. Чтобы исключить влияние токенизатора, будем использовать один для всех экспериментов (BERT tokenizator).\n",
        "* Обе модели используют одинаковый словарь (30,522 токенов)\n",
        "* Одинаковые специальные токены ([CLS], [SEP])\n",
        "* Совместимые методы токенизации (WordPiece)\n",
        "* В обоих случаях используются uncased-версий моделей\n",
        "\n",
        "https://huggingface.co/distilbert/distilbert-base-uncased"
      ],
      "metadata": {
        "id": "XdZBD19TBeik"
      }
    },
    {
      "cell_type": "code",
      "execution_count": 42,
      "metadata": {
        "id": "aLLcK2_mikWB",
        "colab": {
          "base_uri": "https://localhost:8080/",
          "height": 170,
          "referenced_widgets": [
            "36d7ed246c36480aa616e4347e33fa3d",
            "c6521be8cb89456091bf11b5ca11b0dc",
            "4c7ff5782818484787295784b03e9f8b",
            "a52ef0aa5c954c6c81f08cee6349c846",
            "38e5e559344949939583b0d1fa850aa5",
            "6731db04b6b84b85aa58ec62fbe2348b",
            "cb0cc943bf554f6492a2336e8ec84647",
            "cec72ee2a679446ca68bf51c21443199",
            "bcd8fabc5fa64b908b8886eb01bf9dc7",
            "6724bfab705a4fbba1813e9a5397ca04",
            "91a774d990ef4b7ba6b4a8d1ba91f467",
            "bf5e38e511344c8bb9b92f0921c35b5c",
            "8581b879a96f4b4b8b40f767bfed762c",
            "7f64a61578fd4dfbb0453c99ef297f93",
            "cd46f03ec1c84ec99d57d3c43299acb0",
            "75c017fcce934ca39b0df0115a9ee900",
            "40670f2e960c456999bd496fe50d6c4c",
            "d504c31fced24fd9ae62f3ac69f58d10",
            "f435781374964d80ba0e6b507b084a7b",
            "dfd8e6d0e57d4eb8abc15064d599c79f",
            "4617fd5e08e3456a962d28b6fc477944",
            "001d0eac617046869d7104f4c85a2966"
          ]
        },
        "outputId": "2295d699-7567-4e3d-9227-9872a6a496d6"
      },
      "outputs": [
        {
          "output_type": "display_data",
          "data": {
            "text/plain": [
              "config.json:   0%|          | 0.00/483 [00:00<?, ?B/s]"
            ],
            "application/vnd.jupyter.widget-view+json": {
              "version_major": 2,
              "version_minor": 0,
              "model_id": "36d7ed246c36480aa616e4347e33fa3d"
            }
          },
          "metadata": {}
        },
        {
          "output_type": "stream",
          "name": "stderr",
          "text": [
            "Xet Storage is enabled for this repo, but the 'hf_xet' package is not installed. Falling back to regular HTTP download. For better performance, install the package with: `pip install huggingface_hub[hf_xet]` or `pip install hf_xet`\n",
            "WARNING:huggingface_hub.file_download:Xet Storage is enabled for this repo, but the 'hf_xet' package is not installed. Falling back to regular HTTP download. For better performance, install the package with: `pip install huggingface_hub[hf_xet]` or `pip install hf_xet`\n"
          ]
        },
        {
          "output_type": "display_data",
          "data": {
            "text/plain": [
              "model.safetensors:   0%|          | 0.00/268M [00:00<?, ?B/s]"
            ],
            "application/vnd.jupyter.widget-view+json": {
              "version_major": 2,
              "version_minor": 0,
              "model_id": "bf5e38e511344c8bb9b92f0921c35b5c"
            }
          },
          "metadata": {}
        },
        {
          "output_type": "stream",
          "name": "stderr",
          "text": [
            "Some weights of DistilBertForSequenceClassification were not initialized from the model checkpoint at distilbert-base-uncased and are newly initialized: ['classifier.bias', 'classifier.weight', 'pre_classifier.bias', 'pre_classifier.weight']\n",
            "You should probably TRAIN this model on a down-stream task to be able to use it for predictions and inference.\n"
          ]
        }
      ],
      "source": [
        "model_distilbert = AutoModelForSequenceClassification.from_pretrained(\"distilbert-base-uncased\", num_labels=4)"
      ]
    },
    {
      "cell_type": "code",
      "execution_count": 43,
      "metadata": {
        "id": "H7f_-W_Ni4US",
        "colab": {
          "base_uri": "https://localhost:8080/"
        },
        "outputId": "c5f3c01c-a369-4a52-f56f-56d4698b29bf"
      },
      "outputs": [
        {
          "output_type": "stream",
          "name": "stderr",
          "text": [
            "/usr/local/lib/python3.11/dist-packages/transformers/training_args.py:1575: FutureWarning: `evaluation_strategy` is deprecated and will be removed in version 4.46 of 🤗 Transformers. Use `eval_strategy` instead\n",
            "  warnings.warn(\n"
          ]
        }
      ],
      "source": [
        "training_args = TrainingArguments(\n",
        "    output_dir=\"./bert_agnews_results\",\n",
        "    evaluation_strategy=\"epoch\",\n",
        "    save_strategy=\"epoch\",\n",
        "    optim=\"adamw_torch\", #современный оптимизатор для трансформеров\n",
        "    learning_rate=learning_rate,\n",
        "    per_device_train_batch_size=batch_size,\n",
        "    per_device_eval_batch_size=batch_size,\n",
        "    num_train_epochs=num_train_epochs,\n",
        "    weight_decay=0.01,\n",
        "    load_best_model_at_end=True,\n",
        "    metric_for_best_model=\"f1\", #выбор модели по F1-score\n",
        "    greater_is_better=True,\n",
        "    report_to=\"wandb\", # визуализация в Weights & Biases\n",
        "    logging_steps=50, #частота вывода логов\n",
        "    save_total_limit=2, #предотвращает переполнение диска\n",
        "    fp16=True,  # Автоматически использует mixed precision если доступно\n",
        "    gradient_accumulation_steps=1, #полезно для больших батчей\n",
        "    warmup_ratio=0.1, #плавное увеличение learning rate в начале\n",
        ")\n"
      ]
    },
    {
      "cell_type": "code",
      "execution_count": 44,
      "metadata": {
        "id": "X50LBINHjkxt"
      },
      "outputs": [],
      "source": [
        "# Инициализация тренера для обучения модели\n",
        "trainer_distilbert = Trainer(\n",
        "    # Основные компоненты\n",
        "    model= model_distilbert,  # Загруженная ранее модель DistilBERT для классификации\n",
        "    args=training_args,  # Параметры обучения, которые мы настроили ранее\n",
        "\n",
        "    # Данные для обучения и оценки\n",
        "    train_dataset=train_dataset,  # Обучающий датасет\n",
        "    eval_dataset=eval_dataset,    # Валидационный датасет\n",
        "    # Настройки обработки данных\n",
        "    data_collator=DataCollatorWithPadding(\n",
        "        tokenizer=tokenizer,  # Токенизатор для динамического добавления padding\n",
        "        padding='longest',    # Дополнение до длины самого длинного примера в батче\n",
        "        max_length=512,       # Максимальная длина последовательности (ограничение BERT)\n",
        "        return_tensors='pt'   # Возвращать тензоры PyTorch\n",
        "    ),\n",
        "\n",
        "    # Метрики оценки\n",
        "    compute_metrics=compute_metrics,  # Функция для расчета метрик качества\n",
        "\n",
        "    # Коллбэки\n",
        "    callbacks=[\n",
        "        EarlyStoppingCallback(\n",
        "            early_stopping_patience=3,  # Остановить обучение, если метрика не улучшается 3 эпохи\n",
        "            early_stopping_threshold=0.01  # Минимальное улучшение для продолжения обучения\n",
        "        )\n",
        "    ]\n",
        ")\n"
      ]
    },
    {
      "cell_type": "code",
      "source": [
        "# Инициализация мониторинга в Weights & Biases\n",
        "wandb.init(\n",
        "    project=\"SentAnalysis_BERT_vs_Adapter_DistilBERT\",  # Название проекта в W&B\n",
        "    config=training_args.to_dict(),  # Сохранение всех параметров обучения\n",
        "    name=f\"DistilBERT-base-{datetime.now().strftime('%Y-%m-%d_%H-%M')}\",  # Уникальное имя запуска\n",
        "    tags=[\"baseline\", \"bert-base\"]  # Теги для фильтрации экспериментов\n",
        ")\n",
        "\n",
        "try:\n",
        "    # Основной цикл обучения\n",
        "  trainer_distilbert.train()  # Запуск обучения с ранней остановкой\n",
        "  trainer_distilbert.evaluate()\n",
        "finally:\n",
        "    # Обязательное завершение сессии W&B\n",
        "    wandb.finish()\n",
        "\n",
        "    # Оптимизация использования памяти GPU\n",
        "    torch.cuda.empty_cache()  # Очистка кэша CUDA\n",
        "    gc.collect()             # Запуск сборщика мусора"
      ],
      "metadata": {
        "id": "tRG5E-jIsJfU",
        "colab": {
          "base_uri": "https://localhost:8080/",
          "height": 1000
        },
        "outputId": "2bd0dfd9-4d5e-4843-b096-02e19d8c4972"
      },
      "execution_count": 46,
      "outputs": [
        {
          "data": {
            "text/html": [
              "Tracking run with wandb version 0.19.10"
            ],
            "text/plain": [
              "<IPython.core.display.HTML object>"
            ]
          },
          "metadata": {},
          "output_type": "display_data"
        },
        {
          "data": {
            "text/html": [
              "Run data is saved locally in <code>/content/wandb/run-20250509_134129-e3ubo7vs</code>"
            ],
            "text/plain": [
              "<IPython.core.display.HTML object>"
            ]
          },
          "metadata": {},
          "output_type": "display_data"
        },
        {
          "data": {
            "text/html": [
              "Syncing run <strong><a href='https://wandb.ai/nedolivko/SentAnalysis_BERT_vs_Adapter_DistilBERT/runs/e3ubo7vs' target=\"_blank\">DistilBERT-base-2025-05-09_13-41</a></strong> to <a href='https://wandb.ai/nedolivko/SentAnalysis_BERT_vs_Adapter_DistilBERT' target=\"_blank\">Weights & Biases</a> (<a href='https://wandb.me/developer-guide' target=\"_blank\">docs</a>)<br>"
            ],
            "text/plain": [
              "<IPython.core.display.HTML object>"
            ]
          },
          "metadata": {},
          "output_type": "display_data"
        },
        {
          "data": {
            "text/html": [
              " View project at <a href='https://wandb.ai/nedolivko/SentAnalysis_BERT_vs_Adapter_DistilBERT' target=\"_blank\">https://wandb.ai/nedolivko/SentAnalysis_BERT_vs_Adapter_DistilBERT</a>"
            ],
            "text/plain": [
              "<IPython.core.display.HTML object>"
            ]
          },
          "metadata": {},
          "output_type": "display_data"
        },
        {
          "data": {
            "text/html": [
              " View run at <a href='https://wandb.ai/nedolivko/SentAnalysis_BERT_vs_Adapter_DistilBERT/runs/e3ubo7vs' target=\"_blank\">https://wandb.ai/nedolivko/SentAnalysis_BERT_vs_Adapter_DistilBERT/runs/e3ubo7vs</a>"
            ],
            "text/plain": [
              "<IPython.core.display.HTML object>"
            ]
          },
          "metadata": {},
          "output_type": "display_data"
        },
        {
          "data": {
            "text/html": [
              "\n",
              "    <div>\n",
              "      \n",
              "      <progress value='4041' max='5400' style='width:300px; height:20px; vertical-align: middle;'></progress>\n",
              "      [4041/5400 07:51 < 02:38, 8.56 it/s, Epoch 5.99/8]\n",
              "    </div>\n",
              "    <table border=\"1\" class=\"dataframe\">\n",
              "  <thead>\n",
              " <tr style=\"text-align: left;\">\n",
              "      <th>Epoch</th>\n",
              "      <th>Training Loss</th>\n",
              "      <th>Validation Loss</th>\n",
              "      <th>Accuracy</th>\n",
              "      <th>Recall</th>\n",
              "      <th>Precision</th>\n",
              "      <th>F1</th>\n",
              "    </tr>\n",
              "  </thead>\n",
              "  <tbody>\n",
              "    <tr>\n",
              "      <td>1</td>\n",
              "      <td>0.299600</td>\n",
              "      <td>0.207760</td>\n",
              "      <td>0.934271</td>\n",
              "      <td>0.934271</td>\n",
              "      <td>0.934400</td>\n",
              "      <td>0.934157</td>\n",
              "    </tr>\n",
              "    <tr>\n",
              "      <td>2</td>\n",
              "      <td>0.177600</td>\n",
              "      <td>0.119801</td>\n",
              "      <td>0.962083</td>\n",
              "      <td>0.962083</td>\n",
              "      <td>0.963321</td>\n",
              "      <td>0.962013</td>\n",
              "    </tr>\n",
              "    <tr>\n",
              "      <td>3</td>\n",
              "      <td>0.125200</td>\n",
              "      <td>0.069070</td>\n",
              "      <td>0.980104</td>\n",
              "      <td>0.980104</td>\n",
              "      <td>0.980127</td>\n",
              "      <td>0.980105</td>\n",
              "    </tr>\n",
              "    <tr>\n",
              "      <td>4</td>\n",
              "      <td>0.091900</td>\n",
              "      <td>0.037900</td>\n",
              "      <td>0.990417</td>\n",
              "      <td>0.990417</td>\n",
              "      <td>0.990494</td>\n",
              "      <td>0.990412</td>\n",
              "    </tr>\n",
              "    <tr>\n",
              "      <td>5</td>\n",
              "      <td>0.073100</td>\n",
              "      <td>0.022465</td>\n",
              "      <td>0.994896</td>\n",
              "      <td>0.994896</td>\n",
              "      <td>0.994895</td>\n",
              "      <td>0.994895</td>\n",
              "    </tr>\n",
              "  </tbody>\n",
              "</table><p>"
            ],
            "text/plain": [
              "<IPython.core.display.HTML object>"
            ]
          },
          "metadata": {},
          "output_type": "display_data"
        },
        {
          "output_type": "display_data",
          "data": {
            "text/plain": [
              "<IPython.core.display.HTML object>"
            ],
            "text/html": [
              "\n",
              "    <div>\n",
              "      \n",
              "      <progress value='4725' max='5400' style='width:300px; height:20px; vertical-align: middle;'></progress>\n",
              "      [4725/5400 09:38 < 01:22, 8.17 it/s, Epoch 7/8]\n",
              "    </div>\n",
              "    <table border=\"1\" class=\"dataframe\">\n",
              "  <thead>\n",
              " <tr style=\"text-align: left;\">\n",
              "      <th>Epoch</th>\n",
              "      <th>Training Loss</th>\n",
              "      <th>Validation Loss</th>\n",
              "      <th>Accuracy</th>\n",
              "      <th>Recall</th>\n",
              "      <th>Precision</th>\n",
              "      <th>F1</th>\n",
              "    </tr>\n",
              "  </thead>\n",
              "  <tbody>\n",
              "    <tr>\n",
              "      <td>1</td>\n",
              "      <td>0.299600</td>\n",
              "      <td>0.207760</td>\n",
              "      <td>0.934271</td>\n",
              "      <td>0.934271</td>\n",
              "      <td>0.934400</td>\n",
              "      <td>0.934157</td>\n",
              "    </tr>\n",
              "    <tr>\n",
              "      <td>2</td>\n",
              "      <td>0.177600</td>\n",
              "      <td>0.119801</td>\n",
              "      <td>0.962083</td>\n",
              "      <td>0.962083</td>\n",
              "      <td>0.963321</td>\n",
              "      <td>0.962013</td>\n",
              "    </tr>\n",
              "    <tr>\n",
              "      <td>3</td>\n",
              "      <td>0.125200</td>\n",
              "      <td>0.069070</td>\n",
              "      <td>0.980104</td>\n",
              "      <td>0.980104</td>\n",
              "      <td>0.980127</td>\n",
              "      <td>0.980105</td>\n",
              "    </tr>\n",
              "    <tr>\n",
              "      <td>4</td>\n",
              "      <td>0.091900</td>\n",
              "      <td>0.037900</td>\n",
              "      <td>0.990417</td>\n",
              "      <td>0.990417</td>\n",
              "      <td>0.990494</td>\n",
              "      <td>0.990412</td>\n",
              "    </tr>\n",
              "    <tr>\n",
              "      <td>5</td>\n",
              "      <td>0.073100</td>\n",
              "      <td>0.022465</td>\n",
              "      <td>0.994896</td>\n",
              "      <td>0.994896</td>\n",
              "      <td>0.994895</td>\n",
              "      <td>0.994895</td>\n",
              "    </tr>\n",
              "    <tr>\n",
              "      <td>6</td>\n",
              "      <td>0.035600</td>\n",
              "      <td>0.014460</td>\n",
              "      <td>0.996875</td>\n",
              "      <td>0.996875</td>\n",
              "      <td>0.996882</td>\n",
              "      <td>0.996874</td>\n",
              "    </tr>\n",
              "    <tr>\n",
              "      <td>7</td>\n",
              "      <td>0.027700</td>\n",
              "      <td>0.008850</td>\n",
              "      <td>0.998229</td>\n",
              "      <td>0.998229</td>\n",
              "      <td>0.998229</td>\n",
              "      <td>0.998229</td>\n",
              "    </tr>\n",
              "  </tbody>\n",
              "</table><p>"
            ]
          },
          "metadata": {}
        },
        {
          "output_type": "display_data",
          "data": {
            "text/plain": [
              "<IPython.core.display.HTML object>"
            ],
            "text/html": [
              "\n",
              "    <div>\n",
              "      \n",
              "      <progress value='300' max='300' style='width:300px; height:20px; vertical-align: middle;'></progress>\n",
              "      [300/300 00:08]\n",
              "    </div>\n",
              "    "
            ]
          },
          "metadata": {}
        },
        {
          "output_type": "display_data",
          "data": {
            "text/plain": [
              "<IPython.core.display.HTML object>"
            ],
            "text/html": []
          },
          "metadata": {}
        },
        {
          "output_type": "display_data",
          "data": {
            "text/plain": [
              "<IPython.core.display.HTML object>"
            ],
            "text/html": [
              "<br>    <style><br>        .wandb-row {<br>            display: flex;<br>            flex-direction: row;<br>            flex-wrap: wrap;<br>            justify-content: flex-start;<br>            width: 100%;<br>        }<br>        .wandb-col {<br>            display: flex;<br>            flex-direction: column;<br>            flex-basis: 100%;<br>            flex: 1;<br>            padding: 10px;<br>        }<br>    </style><br><div class=\"wandb-row\"><div class=\"wandb-col\"><h3>Run history:</h3><br/><table class=\"wandb\"><tr><td>eval/accuracy</td><td>▁▄▆▇████</td></tr><tr><td>eval/f1</td><td>▁▄▆▇████</td></tr><tr><td>eval/loss</td><td>█▅▃▂▁▁▁▁</td></tr><tr><td>eval/precision</td><td>▁▄▆▇████</td></tr><tr><td>eval/recall</td><td>▁▄▆▇████</td></tr><tr><td>eval/runtime</td><td>█▁▃▃▂▂▂▄</td></tr><tr><td>eval/samples_per_second</td><td>▁█▆▆▇▇▆▅</td></tr><tr><td>eval/steps_per_second</td><td>▁█▆▆▇▇▆▅</td></tr><tr><td>train/epoch</td><td>▁▁▁▁▂▂▂▂▃▃▃▃▄▄▄▅▅▅▅▅▅▆▆▆▆▆▆▆▆▇▇▇▇▇▇▇▇███</td></tr><tr><td>train/global_step</td><td>▁▁▁▂▂▂▂▂▃▃▃▃▃▃▄▄▄▄▄▄▄▅▅▅▅▅▅▅▅▅▇▇▇▇▇▇▇███</td></tr><tr><td>train/grad_norm</td><td>▂▄▆▅▅▂▄▅▇▂▃█▄▂▂▃▃▃▂▅▃▄█▁▃▁▁▂▂▁▃▁▇▆▁▁▁▁▁▂</td></tr><tr><td>train/learning_rate</td><td>▄▇███▇▇▇▇▇▇▆▆▆▆▅▅▅▅▅▄▄▄▄▄▄▃▃▃▃▃▃▂▂▂▂▁▁▁▁</td></tr><tr><td>train/loss</td><td>█▃▃▃▃▂▂▂▂▂▂▂▂▂▂▁▁▂▁▂▂▁▁▁▁▁▁▁▁▁▁▁▁▁▁▁▁▁▁▁</td></tr></table><br/></div><div class=\"wandb-col\"><h3>Run summary:</h3><br/><table class=\"wandb\"><tr><td>eval/accuracy</td><td>0.99823</td></tr><tr><td>eval/f1</td><td>0.99823</td></tr><tr><td>eval/loss</td><td>0.00885</td></tr><tr><td>eval/precision</td><td>0.99823</td></tr><tr><td>eval/recall</td><td>0.99823</td></tr><tr><td>eval/runtime</td><td>8.2848</td></tr><tr><td>eval/samples_per_second</td><td>1158.75</td></tr><tr><td>eval/steps_per_second</td><td>36.211</td></tr><tr><td>total_flos</td><td>4417821122507520.0</td></tr><tr><td>train/epoch</td><td>7</td></tr><tr><td>train/global_step</td><td>4725</td></tr><tr><td>train/grad_norm</td><td>1.16888</td></tr><tr><td>train/learning_rate</td><td>0.0</td></tr><tr><td>train/loss</td><td>0.0277</td></tr><tr><td>train_loss</td><td>0.15706</td></tr><tr><td>train_runtime</td><td>569.3336</td></tr><tr><td>train_samples_per_second</td><td>303.513</td></tr><tr><td>train_steps_per_second</td><td>9.485</td></tr></table><br/></div></div>"
            ]
          },
          "metadata": {}
        },
        {
          "output_type": "display_data",
          "data": {
            "text/plain": [
              "<IPython.core.display.HTML object>"
            ],
            "text/html": [
              " View run <strong style=\"color:#cdcd00\">DistilBERT-base-2025-05-09_13-41</strong> at: <a href='https://wandb.ai/nedolivko/SentAnalysis_BERT_vs_Adapter_DistilBERT/runs/e3ubo7vs' target=\"_blank\">https://wandb.ai/nedolivko/SentAnalysis_BERT_vs_Adapter_DistilBERT/runs/e3ubo7vs</a><br> View project at: <a href='https://wandb.ai/nedolivko/SentAnalysis_BERT_vs_Adapter_DistilBERT' target=\"_blank\">https://wandb.ai/nedolivko/SentAnalysis_BERT_vs_Adapter_DistilBERT</a><br>Synced 5 W&B file(s), 0 media file(s), 6 artifact file(s) and 0 other file(s)"
            ]
          },
          "metadata": {}
        },
        {
          "output_type": "display_data",
          "data": {
            "text/plain": [
              "<IPython.core.display.HTML object>"
            ],
            "text/html": [
              "Find logs at: <code>./wandb/run-20250509_134129-e3ubo7vs/logs</code>"
            ]
          },
          "metadata": {}
        }
      ]
    },
    {
      "cell_type": "markdown",
      "source": [],
      "metadata": {
        "id": "SUVFJ_okHEsu"
      }
    },
    {
      "cell_type": "markdown",
      "metadata": {
        "id": "h6KTIgp7zdf1"
      },
      "source": [
        "### Adapters model with BERT"
      ]
    },
    {
      "cell_type": "markdown",
      "source": [
        "Адаптер добавляется к слоям предобученной модели BERT, обеспечивая эффективную тонкую настройку с минимальным количеством обучаемых параметров.\n",
        "\n",
        "В этом коде мы добавляем адаптер SeqBn с конфигурацией SeqBnConfig() к предобученной модели (например, BERT). Адаптеры позволяют эффективно дообучать большие языковые модели, замораживая основные слои и обучая только небольшое количество дополнительных параметров.\n",
        "\n",
        "Ключевые особенности:\n",
        "\n",
        "SeqBn — адаптер с последовательной пакетной нормализацией, улучшающей стабильность обучения.\n",
        "\n",
        "Метод add_adapter() интегрирует адаптер в модель, а train_adapter() активирует его обучение.\n",
        "\n",
        "\n",
        "https://docs.adapterhub.ml/methods.html#bottleneck-adapters"
      ],
      "metadata": {
        "id": "t3qpkcpgGXHB"
      }
    },
    {
      "cell_type": "code",
      "source": [
        "# Adapter configurations\n",
        "adapter_name = \"SeqBn\"\n",
        "adapter_config = SeqBnConfig()"
      ],
      "metadata": {
        "id": "0FyRxdeIAEh5"
      },
      "execution_count": 47,
      "outputs": []
    },
    {
      "cell_type": "markdown",
      "source": [
        "Загружается bert-base-uncased - английская версия BERT, игнорирующая регистр букв.\n",
        "\n",
        "Функция init() инициализирует адаптеры (добавляет SeqBn адаптер, как обсуждалось ранее)"
      ],
      "metadata": {
        "id": "sMqlPOR4HRoA"
      }
    },
    {
      "cell_type": "code",
      "source": [
        "model_adapt = AutoModelForSequenceClassification.from_pretrained(\"bert-base-uncased\", num_labels=4)\n",
        "init(model_adapt)"
      ],
      "metadata": {
        "id": "bozttgNdAR4L",
        "colab": {
          "base_uri": "https://localhost:8080/"
        },
        "outputId": "7be0cb8a-6baf-4b96-d7e3-45f87b47d0c7"
      },
      "execution_count": 48,
      "outputs": [
        {
          "output_type": "stream",
          "name": "stderr",
          "text": [
            "Some weights of BertForSequenceClassification were not initialized from the model checkpoint at bert-base-uncased and are newly initialized: ['classifier.bias', 'classifier.weight']\n",
            "You should probably TRAIN this model on a down-stream task to be able to use it for predictions and inference.\n"
          ]
        }
      ]
    },
    {
      "cell_type": "markdown",
      "source": [
        "**add_adapter():**\n",
        "\n",
        "Добавляет в модель адаптер с указанным именем (adapter_name)\n",
        "\n",
        "Использует конфигурацию SeqBnConfig для инициализации\n",
        "\n",
        "Сохраняет оригинальные параметры модели нетронутыми\n",
        "\n",
        "**train_adapter():**\n",
        "\n",
        "Переводит модель в режим обучения только адаптера\n",
        "\n",
        "\"Замораживает\" все остальные параметры BERT\n",
        "\n",
        "Значительно сокращает количество обучаемых параметров\n",
        "\n",
        "**set_active_adapters():**\n",
        "\n",
        "Активирует добавленный адаптер для последующего использования\n",
        "\n",
        "Позволяет работать с разными адаптерами при необходимости"
      ],
      "metadata": {
        "id": "lWovRhNaH0lG"
      }
    },
    {
      "cell_type": "code",
      "source": [
        "model_adapt.add_adapter(adapter_name, config=adapter_config)\n",
        "model_adapt.train_adapter(adapter_name)\n",
        "model_adapt.set_active_adapters(adapter_name)"
      ],
      "metadata": {
        "id": "bmMt3qnLAWYe"
      },
      "execution_count": 49,
      "outputs": []
    },
    {
      "cell_type": "code",
      "execution_count": 50,
      "metadata": {
        "id": "GUk8xBkurRcl",
        "colab": {
          "base_uri": "https://localhost:8080/"
        },
        "outputId": "26d21363-36f4-4317-bdd2-f26cb3d18a86"
      },
      "outputs": [
        {
          "output_type": "stream",
          "name": "stderr",
          "text": [
            "/usr/local/lib/python3.11/dist-packages/transformers/training_args.py:1575: FutureWarning: `evaluation_strategy` is deprecated and will be removed in version 4.46 of 🤗 Transformers. Use `eval_strategy` instead\n",
            "  warnings.warn(\n"
          ]
        }
      ],
      "source": [
        "training_args = TrainingArguments(\n",
        "    output_dir=\"./bert_agnews_results\",\n",
        "    evaluation_strategy=\"epoch\",\n",
        "    save_strategy=\"epoch\",\n",
        "    optim=\"adamw_torch\", #современный оптимизатор для трансформеров\n",
        "    learning_rate=learning_rate,\n",
        "    per_device_train_batch_size=batch_size,\n",
        "    per_device_eval_batch_size=batch_size,\n",
        "    num_train_epochs=num_train_epochs,\n",
        "    weight_decay=0.01,\n",
        "    load_best_model_at_end=True,\n",
        "    metric_for_best_model=\"f1\", #выбор модели по F1-score\n",
        "    greater_is_better=True,\n",
        "    report_to=\"wandb\", # визуализация в Weights & Biases\n",
        "    logging_steps=50, #частота вывода логов\n",
        "    save_total_limit=2, #предотвращает переполнение диска\n",
        "    fp16=True,  # Автоматически использует mixed precision если доступно\n",
        "    gradient_accumulation_steps=1, #полезно для больших батчей\n",
        "    warmup_ratio=0.1, #плавное увеличение learning rate в начале\n",
        ")\n"
      ]
    },
    {
      "cell_type": "code",
      "execution_count": 51,
      "metadata": {
        "id": "gzsTLMVGve6f"
      },
      "outputs": [],
      "source": [
        "# Инициализация тренера для обучения модели\n",
        "trainer  = Trainer(\n",
        "    # Основные компоненты\n",
        "    model= model_adapt,  # Загруженная ранее модель DistilBERT для классификации\n",
        "    args=training_args,  # Параметры обучения, которые мы настроили ранее\n",
        "\n",
        "    # Данные для обучения и оценки\n",
        "    train_dataset=train_dataset,  # Обучающий датасет\n",
        "    eval_dataset=eval_dataset,    # Валидационный датасет\n",
        "    # Настройки обработки данных\n",
        "    data_collator=DataCollatorWithPadding(\n",
        "        tokenizer=tokenizer,  # Токенизатор для динамического добавления padding\n",
        "        padding='longest',    # Дополнение до длины самого длинного примера в батче\n",
        "        max_length=512,       # Максимальная длина последовательности (ограничение BERT)\n",
        "        return_tensors='pt'   # Возвращать тензоры PyTorch\n",
        "    ),\n",
        "\n",
        "    # Метрики оценки\n",
        "    compute_metrics=compute_metrics,  # Функция для расчета метрик качества\n",
        "\n",
        "    # Коллбэки\n",
        "    callbacks=[\n",
        "        EarlyStoppingCallback(\n",
        "            early_stopping_patience=3,  # Остановить обучение, если метрика не улучшается 3 эпохи\n",
        "            early_stopping_threshold=0.01  # Минимальное улучшение для продолжения обучения\n",
        "        )\n",
        "    ]\n",
        ")\n"
      ]
    },
    {
      "cell_type": "code",
      "source": [
        "# Инициализация мониторинга в Weights & Biases\n",
        "wandb.init(\n",
        "    project=\"SentAnalysis_BERT_vs_Adapter_DistilBERT\",  # Название проекта в W&B\n",
        "    config=training_args.to_dict(),  # Сохранение всех параметров обучения\n",
        "    name=f\"BERT-base_Adapter-{datetime.now().strftime('%Y-%m-%d_%H-%M')}\",  # Уникальное имя запуска\n",
        "    tags=[\"baseline\", \"bert-base\"]  # Теги для фильтрации экспериментов\n",
        ")\n",
        "\n",
        "try:\n",
        "    # Основной цикл обучения\n",
        "    trainer.train()  # Запуск обучения с ранней остановкой\n",
        "    trainer.evaluate()\n",
        "finally:\n",
        "    # Обязательное завершение сессии W&B\n",
        "    wandb.finish()\n",
        "\n",
        "    # Оптимизация использования памяти GPU\n",
        "    torch.cuda.empty_cache()  # Очистка кэша CUDA\n",
        "    gc.collect()             # Запуск сборщика мусора\n"
      ],
      "metadata": {
        "colab": {
          "base_uri": "https://localhost:8080/",
          "height": 1000
        },
        "id": "NeOBWK6CIO0-",
        "outputId": "d1603fac-4746-456c-c453-58a8dff2627f"
      },
      "execution_count": 52,
      "outputs": [
        {
          "data": {
            "text/html": [
              "Tracking run with wandb version 0.19.10"
            ],
            "text/plain": [
              "<IPython.core.display.HTML object>"
            ]
          },
          "metadata": {},
          "output_type": "display_data"
        },
        {
          "data": {
            "text/html": [
              "Run data is saved locally in <code>/content/wandb/run-20250509_135124-388rgufr</code>"
            ],
            "text/plain": [
              "<IPython.core.display.HTML object>"
            ]
          },
          "metadata": {},
          "output_type": "display_data"
        },
        {
          "data": {
            "text/html": [
              "Syncing run <strong><a href='https://wandb.ai/nedolivko/SentAnalysis_BERT_vs_Adapter_DistilBERT/runs/388rgufr' target=\"_blank\">BERT-base_Adapter-2025-05-09_13-51</a></strong> to <a href='https://wandb.ai/nedolivko/SentAnalysis_BERT_vs_Adapter_DistilBERT' target=\"_blank\">Weights & Biases</a> (<a href='https://wandb.me/developer-guide' target=\"_blank\">docs</a>)<br>"
            ],
            "text/plain": [
              "<IPython.core.display.HTML object>"
            ]
          },
          "metadata": {},
          "output_type": "display_data"
        },
        {
          "data": {
            "text/html": [
              " View project at <a href='https://wandb.ai/nedolivko/SentAnalysis_BERT_vs_Adapter_DistilBERT' target=\"_blank\">https://wandb.ai/nedolivko/SentAnalysis_BERT_vs_Adapter_DistilBERT</a>"
            ],
            "text/plain": [
              "<IPython.core.display.HTML object>"
            ]
          },
          "metadata": {},
          "output_type": "display_data"
        },
        {
          "data": {
            "text/html": [
              " View run at <a href='https://wandb.ai/nedolivko/SentAnalysis_BERT_vs_Adapter_DistilBERT/runs/388rgufr' target=\"_blank\">https://wandb.ai/nedolivko/SentAnalysis_BERT_vs_Adapter_DistilBERT/runs/388rgufr</a>"
            ],
            "text/plain": [
              "<IPython.core.display.HTML object>"
            ]
          },
          "metadata": {},
          "output_type": "display_data"
        },
        {
          "data": {
            "text/html": [
              "\n",
              "    <div>\n",
              "      \n",
              "      <progress value='1589' max='5400' style='width:300px; height:20px; vertical-align: middle;'></progress>\n",
              "      [1589/5400 04:01 < 09:40, 6.57 it/s, Epoch 2.35/8]\n",
              "    </div>\n",
              "    <table border=\"1\" class=\"dataframe\">\n",
              "  <thead>\n",
              " <tr style=\"text-align: left;\">\n",
              "      <th>Epoch</th>\n",
              "      <th>Training Loss</th>\n",
              "      <th>Validation Loss</th>\n",
              "      <th>Accuracy</th>\n",
              "      <th>Recall</th>\n",
              "      <th>Precision</th>\n",
              "      <th>F1</th>\n",
              "    </tr>\n",
              "  </thead>\n",
              "  <tbody>\n",
              "    <tr>\n",
              "      <td>1</td>\n",
              "      <td>0.635500</td>\n",
              "      <td>0.527199</td>\n",
              "      <td>0.825625</td>\n",
              "      <td>0.825625</td>\n",
              "      <td>0.831960</td>\n",
              "      <td>0.822083</td>\n",
              "    </tr>\n",
              "    <tr>\n",
              "      <td>2</td>\n",
              "      <td>0.318600</td>\n",
              "      <td>0.303489</td>\n",
              "      <td>0.901875</td>\n",
              "      <td>0.901875</td>\n",
              "      <td>0.902312</td>\n",
              "      <td>0.901664</td>\n",
              "    </tr>\n",
              "  </tbody>\n",
              "</table><p>"
            ],
            "text/plain": [
              "<IPython.core.display.HTML object>"
            ]
          },
          "metadata": {},
          "output_type": "display_data"
        },
        {
          "output_type": "display_data",
          "data": {
            "text/plain": [
              "<IPython.core.display.HTML object>"
            ],
            "text/html": [
              "\n",
              "    <div>\n",
              "      \n",
              "      <progress value='3375' max='5400' style='width:300px; height:20px; vertical-align: middle;'></progress>\n",
              "      [3375/5400 09:05 < 05:27, 6.19 it/s, Epoch 5/8]\n",
              "    </div>\n",
              "    <table border=\"1\" class=\"dataframe\">\n",
              "  <thead>\n",
              " <tr style=\"text-align: left;\">\n",
              "      <th>Epoch</th>\n",
              "      <th>Training Loss</th>\n",
              "      <th>Validation Loss</th>\n",
              "      <th>Accuracy</th>\n",
              "      <th>Recall</th>\n",
              "      <th>Precision</th>\n",
              "      <th>F1</th>\n",
              "    </tr>\n",
              "  </thead>\n",
              "  <tbody>\n",
              "    <tr>\n",
              "      <td>1</td>\n",
              "      <td>0.635500</td>\n",
              "      <td>0.527199</td>\n",
              "      <td>0.825625</td>\n",
              "      <td>0.825625</td>\n",
              "      <td>0.831960</td>\n",
              "      <td>0.822083</td>\n",
              "    </tr>\n",
              "    <tr>\n",
              "      <td>2</td>\n",
              "      <td>0.318600</td>\n",
              "      <td>0.303489</td>\n",
              "      <td>0.901875</td>\n",
              "      <td>0.901875</td>\n",
              "      <td>0.902312</td>\n",
              "      <td>0.901664</td>\n",
              "    </tr>\n",
              "    <tr>\n",
              "      <td>3</td>\n",
              "      <td>0.295100</td>\n",
              "      <td>0.280157</td>\n",
              "      <td>0.907917</td>\n",
              "      <td>0.907917</td>\n",
              "      <td>0.907949</td>\n",
              "      <td>0.907689</td>\n",
              "    </tr>\n",
              "    <tr>\n",
              "      <td>4</td>\n",
              "      <td>0.279600</td>\n",
              "      <td>0.266072</td>\n",
              "      <td>0.912708</td>\n",
              "      <td>0.912708</td>\n",
              "      <td>0.912736</td>\n",
              "      <td>0.912594</td>\n",
              "    </tr>\n",
              "    <tr>\n",
              "      <td>5</td>\n",
              "      <td>0.287900</td>\n",
              "      <td>0.257914</td>\n",
              "      <td>0.915312</td>\n",
              "      <td>0.915312</td>\n",
              "      <td>0.915294</td>\n",
              "      <td>0.915159</td>\n",
              "    </tr>\n",
              "  </tbody>\n",
              "</table><p>"
            ]
          },
          "metadata": {}
        },
        {
          "output_type": "stream",
          "name": "stderr",
          "text": [
            "There were missing keys in the checkpoint model loaded: ['bert.prompt_tuning.base_model_embeddings.weight'].\n"
          ]
        },
        {
          "output_type": "display_data",
          "data": {
            "text/plain": [
              "<IPython.core.display.HTML object>"
            ],
            "text/html": [
              "\n",
              "    <div>\n",
              "      \n",
              "      <progress value='300' max='300' style='width:300px; height:20px; vertical-align: middle;'></progress>\n",
              "      [300/300 00:17]\n",
              "    </div>\n",
              "    "
            ]
          },
          "metadata": {}
        },
        {
          "output_type": "display_data",
          "data": {
            "text/plain": [
              "<IPython.core.display.HTML object>"
            ],
            "text/html": []
          },
          "metadata": {}
        },
        {
          "output_type": "display_data",
          "data": {
            "text/plain": [
              "<IPython.core.display.HTML object>"
            ],
            "text/html": [
              "<br>    <style><br>        .wandb-row {<br>            display: flex;<br>            flex-direction: row;<br>            flex-wrap: wrap;<br>            justify-content: flex-start;<br>            width: 100%;<br>        }<br>        .wandb-col {<br>            display: flex;<br>            flex-direction: column;<br>            flex-basis: 100%;<br>            flex: 1;<br>            padding: 10px;<br>        }<br>    </style><br><div class=\"wandb-row\"><div class=\"wandb-col\"><h3>Run history:</h3><br/><table class=\"wandb\"><tr><td>eval/accuracy</td><td>▁▇▇███</td></tr><tr><td>eval/f1</td><td>▁▇▇███</td></tr><tr><td>eval/loss</td><td>█▂▂▁▁▁</td></tr><tr><td>eval/precision</td><td>▁▇▇███</td></tr><tr><td>eval/recall</td><td>▁▇▇███</td></tr><tr><td>eval/runtime</td><td>▂▆▂▃▁█</td></tr><tr><td>eval/samples_per_second</td><td>▇▂▇▆█▁</td></tr><tr><td>eval/steps_per_second</td><td>▇▂▇▆█▁</td></tr><tr><td>train/epoch</td><td>▁▁▁▂▂▂▂▂▂▂▃▃▃▃▃▄▄▄▄▄▅▅▅▅▅▆▆▆▆▆▇▇▇▇▇█████</td></tr><tr><td>train/global_step</td><td>▁▁▂▂▂▂▂▂▃▃▃▃▃▃▄▄▄▄▄▄▄▅▅▅▅▆▆▆▆▆▇▇▇▇▇█████</td></tr><tr><td>train/grad_norm</td><td>▇█▃▄▄▇▆▄▃▅▄▄▅▄▆▁▃▂▃▃▃▅▄▃▃▂▅▃▃▂▆▇▂█▃▃▄▆▄▃</td></tr><tr><td>train/learning_rate</td><td>▁▂▄▆▇████▇▇▇▇▆▆▆▆▆▆▆▆▅▅▅▅▅▅▅▅▅▄▄▄▄▄▄▄▃▃▃</td></tr><tr><td>train/loss</td><td>█████▇▆▅▄▃▃▂▂▁▂▁▁▁▁▂▁▁▁▁▁▁▁▁▁▁▁▁▁▁▁▁▁▁▁▁</td></tr></table><br/></div><div class=\"wandb-col\"><h3>Run summary:</h3><br/><table class=\"wandb\"><tr><td>eval/accuracy</td><td>0.91531</td></tr><tr><td>eval/f1</td><td>0.91516</td></tr><tr><td>eval/loss</td><td>0.25791</td></tr><tr><td>eval/precision</td><td>0.91529</td></tr><tr><td>eval/recall</td><td>0.91531</td></tr><tr><td>eval/runtime</td><td>18.1223</td></tr><tr><td>eval/samples_per_second</td><td>529.733</td></tr><tr><td>eval/steps_per_second</td><td>16.554</td></tr><tr><td>total_flos</td><td>6327242015438592.0</td></tr><tr><td>train/epoch</td><td>5</td></tr><tr><td>train/global_step</td><td>3375</td></tr><tr><td>train/grad_norm</td><td>1.833</td></tr><tr><td>train/learning_rate</td><td>1e-05</td></tr><tr><td>train/loss</td><td>0.2879</td></tr><tr><td>train_loss</td><td>0.48046</td></tr><tr><td>train_runtime</td><td>530.6636</td></tr><tr><td>train_samples_per_second</td><td>325.63</td></tr><tr><td>train_steps_per_second</td><td>10.176</td></tr></table><br/></div></div>"
            ]
          },
          "metadata": {}
        },
        {
          "output_type": "display_data",
          "data": {
            "text/plain": [
              "<IPython.core.display.HTML object>"
            ],
            "text/html": [
              " View run <strong style=\"color:#cdcd00\">BERT-base_Adapter-2025-05-09_13-51</strong> at: <a href='https://wandb.ai/nedolivko/SentAnalysis_BERT_vs_Adapter_DistilBERT/runs/388rgufr' target=\"_blank\">https://wandb.ai/nedolivko/SentAnalysis_BERT_vs_Adapter_DistilBERT/runs/388rgufr</a><br> View project at: <a href='https://wandb.ai/nedolivko/SentAnalysis_BERT_vs_Adapter_DistilBERT' target=\"_blank\">https://wandb.ai/nedolivko/SentAnalysis_BERT_vs_Adapter_DistilBERT</a><br>Synced 5 W&B file(s), 0 media file(s), 7 artifact file(s) and 0 other file(s)"
            ]
          },
          "metadata": {}
        },
        {
          "output_type": "display_data",
          "data": {
            "text/plain": [
              "<IPython.core.display.HTML object>"
            ],
            "text/html": [
              "Find logs at: <code>./wandb/run-20250509_135124-388rgufr/logs</code>"
            ]
          },
          "metadata": {}
        }
      ]
    },
    {
      "cell_type": "markdown",
      "source": [
        "### Adapters model with DistilBERT"
      ],
      "metadata": {
        "id": "0l45xmmfAC1N"
      }
    },
    {
      "cell_type": "markdown",
      "source": [
        "Аналогично добавим адаптер к DistilBERT\n",
        "https://docs.adapterhub.ml/methods.html#bottleneck-adapters"
      ],
      "metadata": {
        "id": "pQWmBfYmGmSk"
      }
    },
    {
      "cell_type": "code",
      "execution_count": 64,
      "metadata": {
        "id": "uZroEvTAyNtq"
      },
      "outputs": [],
      "source": [
        "# Adapter configurations\n",
        "adapter_name = \"SeqBn\"\n",
        "adapter_config = SeqBnConfig()"
      ]
    },
    {
      "cell_type": "code",
      "source": [
        "model_adapt = AutoModelForSequenceClassification.from_pretrained(\"distilbert-base-uncased\", num_labels=4)\n",
        "init(model_adapt)"
      ],
      "metadata": {
        "id": "iVA1GbPyGGE8",
        "colab": {
          "base_uri": "https://localhost:8080/"
        },
        "outputId": "b255ee29-788c-41cb-86b1-c3fa68aa723e"
      },
      "execution_count": 65,
      "outputs": [
        {
          "output_type": "stream",
          "name": "stderr",
          "text": [
            "Some weights of DistilBertForSequenceClassification were not initialized from the model checkpoint at distilbert-base-uncased and are newly initialized: ['classifier.bias', 'classifier.weight', 'pre_classifier.bias', 'pre_classifier.weight']\n",
            "You should probably TRAIN this model on a down-stream task to be able to use it for predictions and inference.\n"
          ]
        }
      ]
    },
    {
      "cell_type": "code",
      "source": [
        "model_adapt.add_adapter(adapter_name, config=adapter_config)\n",
        "model_adapt.train_adapter(adapter_name)\n",
        "model_adapt.set_active_adapters(adapter_name)"
      ],
      "metadata": {
        "id": "BTT6R5qqGHzI"
      },
      "execution_count": 66,
      "outputs": []
    },
    {
      "cell_type": "code",
      "source": [
        "training_args = TrainingArguments(\n",
        "    output_dir=\"./bert_agnews_results\",\n",
        "    evaluation_strategy=\"epoch\",\n",
        "    save_strategy=\"epoch\",\n",
        "    optim=\"adamw_torch\", #современный оптимизатор для трансформеров\n",
        "    learning_rate=learning_rate,\n",
        "    per_device_train_batch_size=batch_size,\n",
        "    per_device_eval_batch_size=batch_size,\n",
        "    num_train_epochs=num_train_epochs,\n",
        "    weight_decay=0.01,\n",
        "    load_best_model_at_end=True,\n",
        "    metric_for_best_model=\"f1\", #выбор модели по F1-score\n",
        "    greater_is_better=True,\n",
        "    report_to=\"wandb\", # визуализация в Weights & Biases\n",
        "    logging_steps=50, #частота вывода логов\n",
        "    save_total_limit=2, #предотвращает переполнение диска\n",
        "    fp16=True,  # Автоматически использует mixed precision если доступно\n",
        "    gradient_accumulation_steps=1, #полезно для больших батчей\n",
        "    warmup_ratio=0.1, #плавное увеличение learning rate в начале\n",
        ")\n"
      ],
      "metadata": {
        "id": "F3SLrvtKGJoU",
        "colab": {
          "base_uri": "https://localhost:8080/"
        },
        "outputId": "6500098c-a3bc-4173-f9a1-5aacce99e068"
      },
      "execution_count": 67,
      "outputs": [
        {
          "output_type": "stream",
          "name": "stderr",
          "text": [
            "/usr/local/lib/python3.11/dist-packages/transformers/training_args.py:1575: FutureWarning: `evaluation_strategy` is deprecated and will be removed in version 4.46 of 🤗 Transformers. Use `eval_strategy` instead\n",
            "  warnings.warn(\n"
          ]
        }
      ]
    },
    {
      "cell_type": "code",
      "source": [
        "# Инициализация тренера для обучения модели\n",
        "trainer  = Trainer(\n",
        "    # Основные компоненты\n",
        "    model= model_adapt,  # Загруженная ранее модель DistilBERT для классификации\n",
        "    args=training_args,  # Параметры обучения, которые мы настроили ранее\n",
        "\n",
        "    # Данные для обучения и оценки\n",
        "    train_dataset=train_dataset,  # Обучающий датасет\n",
        "    eval_dataset=eval_dataset,    # Валидационный датасет\n",
        "    # Настройки обработки данных\n",
        "    data_collator=DataCollatorWithPadding(\n",
        "        tokenizer=tokenizer,  # Токенизатор для динамического добавления padding\n",
        "        padding='longest',    # Дополнение до длины самого длинного примера в батче\n",
        "        max_length=512,       # Максимальная длина последовательности (ограничение BERT)\n",
        "        return_tensors='pt'   # Возвращать тензоры PyTorch\n",
        "    ),\n",
        "\n",
        "    # Метрики оценки\n",
        "    compute_metrics=compute_metrics,  # Функция для расчета метрик качества\n",
        "\n",
        "    # Коллбэки\n",
        "    callbacks=[\n",
        "        EarlyStoppingCallback(\n",
        "            early_stopping_patience=3,  # Остановить обучение, если метрика не улучшается 3 эпохи\n",
        "            early_stopping_threshold=0.01  # Минимальное улучшение для продолжения обучения\n",
        "        )\n",
        "    ]\n",
        ")\n"
      ],
      "metadata": {
        "id": "SOeNeoDOGLUy"
      },
      "execution_count": 68,
      "outputs": []
    },
    {
      "cell_type": "code",
      "source": [
        "# Инициализация мониторинга в Weights & Biases\n",
        "wandb.init(\n",
        "    project=\"SentAnalysis_BERT_vs_Adapter_DistilBERT\",  # Название проекта в W&B\n",
        "    config=training_args.to_dict(),  # Сохранение всех параметров обучения\n",
        "    name=f\"DistilBERT-base_Adapter-{datetime.now().strftime('%Y-%m-%d_%H-%M')}\",  # Уникальное имя запуска\n",
        "    tags=[\"baseline\", \"bert-base\"]  # Теги для фильтрации экспериментов\n",
        ")\n",
        "\n",
        "try:\n",
        "    # Основной цикл обучения\n",
        "    trainer.train()  # Запуск обучения с ранней остановкой\n",
        "    trainer.evaluate()\n",
        "finally:\n",
        "    # Обязательное завершение сессии W&B\n",
        "    wandb.finish()\n",
        "\n",
        "    # Оптимизация использования памяти GPU\n",
        "    torch.cuda.empty_cache()  # Очистка кэша CUDA\n",
        "    gc.collect()             # Запуск сборщика мусора\n"
      ],
      "metadata": {
        "colab": {
          "base_uri": "https://localhost:8080/",
          "height": 1000
        },
        "id": "QzB1_fhiIuku",
        "outputId": "622db483-7ef8-4b1a-cdf5-e2443a628329"
      },
      "execution_count": 69,
      "outputs": [
        {
          "data": {
            "text/html": [
              "Tracking run with wandb version 0.19.10"
            ],
            "text/plain": [
              "<IPython.core.display.HTML object>"
            ]
          },
          "metadata": {},
          "output_type": "display_data"
        },
        {
          "data": {
            "text/html": [
              "Run data is saved locally in <code>/content/wandb/run-20250509_140949-3q7m57fy</code>"
            ],
            "text/plain": [
              "<IPython.core.display.HTML object>"
            ]
          },
          "metadata": {},
          "output_type": "display_data"
        },
        {
          "data": {
            "text/html": [
              "Syncing run <strong><a href='https://wandb.ai/nedolivko/SentAnalysis_BERT_vs_Adapter_DistilBERT/runs/3q7m57fy' target=\"_blank\">DistilBERT-base_Adapter-2025-05-09_14-09</a></strong> to <a href='https://wandb.ai/nedolivko/SentAnalysis_BERT_vs_Adapter_DistilBERT' target=\"_blank\">Weights & Biases</a> (<a href='https://wandb.me/developer-guide' target=\"_blank\">docs</a>)<br>"
            ],
            "text/plain": [
              "<IPython.core.display.HTML object>"
            ]
          },
          "metadata": {},
          "output_type": "display_data"
        },
        {
          "data": {
            "text/html": [
              " View project at <a href='https://wandb.ai/nedolivko/SentAnalysis_BERT_vs_Adapter_DistilBERT' target=\"_blank\">https://wandb.ai/nedolivko/SentAnalysis_BERT_vs_Adapter_DistilBERT</a>"
            ],
            "text/plain": [
              "<IPython.core.display.HTML object>"
            ]
          },
          "metadata": {},
          "output_type": "display_data"
        },
        {
          "data": {
            "text/html": [
              " View run at <a href='https://wandb.ai/nedolivko/SentAnalysis_BERT_vs_Adapter_DistilBERT/runs/3q7m57fy' target=\"_blank\">https://wandb.ai/nedolivko/SentAnalysis_BERT_vs_Adapter_DistilBERT/runs/3q7m57fy</a>"
            ],
            "text/plain": [
              "<IPython.core.display.HTML object>"
            ]
          },
          "metadata": {},
          "output_type": "display_data"
        },
        {
          "data": {
            "text/html": [
              "\n",
              "    <div>\n",
              "      \n",
              "      <progress value='2026' max='5400' style='width:300px; height:20px; vertical-align: middle;'></progress>\n",
              "      [2026/5400 02:27 < 04:05, 13.72 it/s, Epoch 3/8]\n",
              "    </div>\n",
              "    <table border=\"1\" class=\"dataframe\">\n",
              "  <thead>\n",
              " <tr style=\"text-align: left;\">\n",
              "      <th>Epoch</th>\n",
              "      <th>Training Loss</th>\n",
              "      <th>Validation Loss</th>\n",
              "      <th>Accuracy</th>\n",
              "      <th>Recall</th>\n",
              "      <th>Precision</th>\n",
              "      <th>F1</th>\n",
              "    </tr>\n",
              "  </thead>\n",
              "  <tbody>\n",
              "    <tr>\n",
              "      <td>1</td>\n",
              "      <td>0.346600</td>\n",
              "      <td>0.314326</td>\n",
              "      <td>0.889792</td>\n",
              "      <td>0.889792</td>\n",
              "      <td>0.889847</td>\n",
              "      <td>0.889663</td>\n",
              "    </tr>\n",
              "    <tr>\n",
              "      <td>2</td>\n",
              "      <td>0.301100</td>\n",
              "      <td>0.282815</td>\n",
              "      <td>0.900417</td>\n",
              "      <td>0.900417</td>\n",
              "      <td>0.901130</td>\n",
              "      <td>0.899974</td>\n",
              "    </tr>\n",
              "  </tbody>\n",
              "</table><p>\n",
              "    <div>\n",
              "      \n",
              "      <progress value='73' max='300' style='width:300px; height:20px; vertical-align: middle;'></progress>\n",
              "      [ 73/300 00:02 < 00:06, 32.88 it/s]\n",
              "    </div>\n",
              "    "
            ],
            "text/plain": [
              "<IPython.core.display.HTML object>"
            ]
          },
          "metadata": {},
          "output_type": "display_data"
        },
        {
          "output_type": "display_data",
          "data": {
            "text/plain": [
              "<IPython.core.display.HTML object>"
            ],
            "text/html": [
              "\n",
              "    <div>\n",
              "      \n",
              "      <progress value='3375' max='5400' style='width:300px; height:20px; vertical-align: middle;'></progress>\n",
              "      [3375/5400 04:27 < 02:40, 12.63 it/s, Epoch 5/8]\n",
              "    </div>\n",
              "    <table border=\"1\" class=\"dataframe\">\n",
              "  <thead>\n",
              " <tr style=\"text-align: left;\">\n",
              "      <th>Epoch</th>\n",
              "      <th>Training Loss</th>\n",
              "      <th>Validation Loss</th>\n",
              "      <th>Accuracy</th>\n",
              "      <th>Recall</th>\n",
              "      <th>Precision</th>\n",
              "      <th>F1</th>\n",
              "    </tr>\n",
              "  </thead>\n",
              "  <tbody>\n",
              "    <tr>\n",
              "      <td>1</td>\n",
              "      <td>0.346600</td>\n",
              "      <td>0.314326</td>\n",
              "      <td>0.889792</td>\n",
              "      <td>0.889792</td>\n",
              "      <td>0.889847</td>\n",
              "      <td>0.889663</td>\n",
              "    </tr>\n",
              "    <tr>\n",
              "      <td>2</td>\n",
              "      <td>0.301100</td>\n",
              "      <td>0.282815</td>\n",
              "      <td>0.900417</td>\n",
              "      <td>0.900417</td>\n",
              "      <td>0.901130</td>\n",
              "      <td>0.899974</td>\n",
              "    </tr>\n",
              "    <tr>\n",
              "      <td>3</td>\n",
              "      <td>0.268000</td>\n",
              "      <td>0.264787</td>\n",
              "      <td>0.905729</td>\n",
              "      <td>0.905729</td>\n",
              "      <td>0.905909</td>\n",
              "      <td>0.905457</td>\n",
              "    </tr>\n",
              "    <tr>\n",
              "      <td>4</td>\n",
              "      <td>0.258800</td>\n",
              "      <td>0.255131</td>\n",
              "      <td>0.908750</td>\n",
              "      <td>0.908750</td>\n",
              "      <td>0.908724</td>\n",
              "      <td>0.908488</td>\n",
              "    </tr>\n",
              "    <tr>\n",
              "      <td>5</td>\n",
              "      <td>0.278900</td>\n",
              "      <td>0.249614</td>\n",
              "      <td>0.910833</td>\n",
              "      <td>0.910833</td>\n",
              "      <td>0.911230</td>\n",
              "      <td>0.910674</td>\n",
              "    </tr>\n",
              "  </tbody>\n",
              "</table><p>"
            ]
          },
          "metadata": {}
        },
        {
          "output_type": "stream",
          "name": "stderr",
          "text": [
            "There were missing keys in the checkpoint model loaded: ['distilbert.prompt_tuning.base_model_embeddings.weight'].\n"
          ]
        },
        {
          "output_type": "display_data",
          "data": {
            "text/plain": [
              "<IPython.core.display.HTML object>"
            ],
            "text/html": [
              "\n",
              "    <div>\n",
              "      \n",
              "      <progress value='300' max='300' style='width:300px; height:20px; vertical-align: middle;'></progress>\n",
              "      [300/300 00:09]\n",
              "    </div>\n",
              "    "
            ]
          },
          "metadata": {}
        },
        {
          "output_type": "display_data",
          "data": {
            "text/plain": [
              "<IPython.core.display.HTML object>"
            ],
            "text/html": []
          },
          "metadata": {}
        },
        {
          "output_type": "display_data",
          "data": {
            "text/plain": [
              "<IPython.core.display.HTML object>"
            ],
            "text/html": [
              "<br>    <style><br>        .wandb-row {<br>            display: flex;<br>            flex-direction: row;<br>            flex-wrap: wrap;<br>            justify-content: flex-start;<br>            width: 100%;<br>        }<br>        .wandb-col {<br>            display: flex;<br>            flex-direction: column;<br>            flex-basis: 100%;<br>            flex: 1;<br>            padding: 10px;<br>        }<br>    </style><br><div class=\"wandb-row\"><div class=\"wandb-col\"><h3>Run history:</h3><br/><table class=\"wandb\"><tr><td>eval/accuracy</td><td>▁▅▆▇██</td></tr><tr><td>eval/f1</td><td>▁▄▆▇██</td></tr><tr><td>eval/loss</td><td>█▅▃▂▁▁</td></tr><tr><td>eval/precision</td><td>▁▅▆▇██</td></tr><tr><td>eval/recall</td><td>▁▅▆▇██</td></tr><tr><td>eval/runtime</td><td>▃▃▁▄▄█</td></tr><tr><td>eval/samples_per_second</td><td>▆▅█▅▅▁</td></tr><tr><td>eval/steps_per_second</td><td>▆▅█▅▅▁</td></tr><tr><td>train/epoch</td><td>▁▁▁▂▂▂▂▃▃▃▃▃▃▄▄▄▄▄▄▅▅▅▅▅▆▆▆▆▇▇▇▇▇▇▇█████</td></tr><tr><td>train/global_step</td><td>▁▁▁▁▂▂▂▂▂▃▃▃▃▃▃▄▄▄▄▄▅▅▅▅▅▆▆▆▆▆▇▇▇▇▇▇████</td></tr><tr><td>train/grad_norm</td><td>▁▂▂▂▃▂▃▁▁▄▂▃▃▃▂▃▂▂▅▁▃▁█▂▃▄▂▂▄▂▁▂▂▃▅▂▂▄▁▃</td></tr><tr><td>train/learning_rate</td><td>▁▂▂▃▅▆██████▇▇▇▇▇▇▆▆▆▆▆▆▆▅▅▅▅▅▅▅▅▄▄▄▄▄▄▄</td></tr><tr><td>train/loss</td><td>██▇▇▄▂▁▂▁▁▁▁▁▁▁▁▁▁▁▁▁▁▁▁▁▁▁▁▁▁▁▁▁▁▁▁▁▁▁▁</td></tr></table><br/></div><div class=\"wandb-col\"><h3>Run summary:</h3><br/><table class=\"wandb\"><tr><td>eval/accuracy</td><td>0.91083</td></tr><tr><td>eval/f1</td><td>0.91067</td></tr><tr><td>eval/loss</td><td>0.24961</td></tr><tr><td>eval/precision</td><td>0.91123</td></tr><tr><td>eval/recall</td><td>0.91083</td></tr><tr><td>eval/runtime</td><td>9.6711</td></tr><tr><td>eval/samples_per_second</td><td>992.644</td></tr><tr><td>eval/steps_per_second</td><td>31.02</td></tr><tr><td>total_flos</td><td>3185378675654400.0</td></tr><tr><td>train/epoch</td><td>5</td></tr><tr><td>train/global_step</td><td>3375</td></tr><tr><td>train/grad_norm</td><td>2.09273</td></tr><tr><td>train/learning_rate</td><td>1e-05</td></tr><tr><td>train/loss</td><td>0.2789</td></tr><tr><td>train_loss</td><td>0.39458</td></tr><tr><td>train_runtime</td><td>262.4265</td></tr><tr><td>train_samples_per_second</td><td>658.47</td></tr><tr><td>train_steps_per_second</td><td>20.577</td></tr></table><br/></div></div>"
            ]
          },
          "metadata": {}
        },
        {
          "output_type": "display_data",
          "data": {
            "text/plain": [
              "<IPython.core.display.HTML object>"
            ],
            "text/html": [
              " View run <strong style=\"color:#cdcd00\">DistilBERT-base_Adapter-2025-05-09_14-09</strong> at: <a href='https://wandb.ai/nedolivko/SentAnalysis_BERT_vs_Adapter_DistilBERT/runs/3q7m57fy' target=\"_blank\">https://wandb.ai/nedolivko/SentAnalysis_BERT_vs_Adapter_DistilBERT/runs/3q7m57fy</a><br> View project at: <a href='https://wandb.ai/nedolivko/SentAnalysis_BERT_vs_Adapter_DistilBERT' target=\"_blank\">https://wandb.ai/nedolivko/SentAnalysis_BERT_vs_Adapter_DistilBERT</a><br>Synced 5 W&B file(s), 0 media file(s), 7 artifact file(s) and 0 other file(s)"
            ]
          },
          "metadata": {}
        },
        {
          "output_type": "display_data",
          "data": {
            "text/plain": [
              "<IPython.core.display.HTML object>"
            ],
            "text/html": [
              "Find logs at: <code>./wandb/run-20250509_140949-3q7m57fy/logs</code>"
            ]
          },
          "metadata": {}
        }
      ]
    },
    {
      "cell_type": "code",
      "source": [],
      "metadata": {
        "id": "4LR9XDnUSDF6"
      },
      "execution_count": null,
      "outputs": []
    }
  ],
  "metadata": {
    "accelerator": "GPU",
    "colab": {
      "gpuType": "T4",
      "provenance": []
    },
    "kernelspec": {
      "display_name": "Python 3",
      "name": "python3"
    },
    "language_info": {
      "codemirror_mode": {
        "name": "ipython",
        "version": 3
      },
      "file_extension": ".py",
      "mimetype": "text/x-python",
      "name": "python",
      "nbconvert_exporter": "python",
      "pygments_lexer": "ipython3",
      "version": "3.10.10"
    },
    "widgets": {
      "application/vnd.jupyter.widget-state+json": {
        "b49ce2cd486d45e0ae39ec2ab6aacdc1": {
          "model_module": "@jupyter-widgets/controls",
          "model_name": "HBoxModel",
          "model_module_version": "1.5.0",
          "state": {
            "_dom_classes": [],
            "_model_module": "@jupyter-widgets/controls",
            "_model_module_version": "1.5.0",
            "_model_name": "HBoxModel",
            "_view_count": null,
            "_view_module": "@jupyter-widgets/controls",
            "_view_module_version": "1.5.0",
            "_view_name": "HBoxView",
            "box_style": "",
            "children": [
              "IPY_MODEL_1c40316e629149f6a4c222972f37a53f",
              "IPY_MODEL_e9854d7f810b44788856dadfb0887601",
              "IPY_MODEL_7929987f169349868e64df0be1e9f09f"
            ],
            "layout": "IPY_MODEL_003b294de00e4ecab4eb4d47e7268045"
          }
        },
        "1c40316e629149f6a4c222972f37a53f": {
          "model_module": "@jupyter-widgets/controls",
          "model_name": "HTMLModel",
          "model_module_version": "1.5.0",
          "state": {
            "_dom_classes": [],
            "_model_module": "@jupyter-widgets/controls",
            "_model_module_version": "1.5.0",
            "_model_name": "HTMLModel",
            "_view_count": null,
            "_view_module": "@jupyter-widgets/controls",
            "_view_module_version": "1.5.0",
            "_view_name": "HTMLView",
            "description": "",
            "description_tooltip": null,
            "layout": "IPY_MODEL_d59b2d867c6e4a458c29bf943e660959",
            "placeholder": "​",
            "style": "IPY_MODEL_94c66fc3a7a84112a6db668bf969e9fd",
            "value": "Map: 100%"
          }
        },
        "e9854d7f810b44788856dadfb0887601": {
          "model_module": "@jupyter-widgets/controls",
          "model_name": "FloatProgressModel",
          "model_module_version": "1.5.0",
          "state": {
            "_dom_classes": [],
            "_model_module": "@jupyter-widgets/controls",
            "_model_module_version": "1.5.0",
            "_model_name": "FloatProgressModel",
            "_view_count": null,
            "_view_module": "@jupyter-widgets/controls",
            "_view_module_version": "1.5.0",
            "_view_name": "ProgressView",
            "bar_style": "success",
            "description": "",
            "description_tooltip": null,
            "layout": "IPY_MODEL_a9b224c386f641699e6071b8c7c552d2",
            "max": 7600,
            "min": 0,
            "orientation": "horizontal",
            "style": "IPY_MODEL_0cd02103a778409d882f4723ce4341bc",
            "value": 7600
          }
        },
        "7929987f169349868e64df0be1e9f09f": {
          "model_module": "@jupyter-widgets/controls",
          "model_name": "HTMLModel",
          "model_module_version": "1.5.0",
          "state": {
            "_dom_classes": [],
            "_model_module": "@jupyter-widgets/controls",
            "_model_module_version": "1.5.0",
            "_model_name": "HTMLModel",
            "_view_count": null,
            "_view_module": "@jupyter-widgets/controls",
            "_view_module_version": "1.5.0",
            "_view_name": "HTMLView",
            "description": "",
            "description_tooltip": null,
            "layout": "IPY_MODEL_a8cfcd299d624a9aa70f1647b1884751",
            "placeholder": "​",
            "style": "IPY_MODEL_2f9909f2d15f49199760ac660c5ac3d2",
            "value": " 7600/7600 [00:02&lt;00:00, 3471.53 examples/s]"
          }
        },
        "003b294de00e4ecab4eb4d47e7268045": {
          "model_module": "@jupyter-widgets/base",
          "model_name": "LayoutModel",
          "model_module_version": "1.2.0",
          "state": {
            "_model_module": "@jupyter-widgets/base",
            "_model_module_version": "1.2.0",
            "_model_name": "LayoutModel",
            "_view_count": null,
            "_view_module": "@jupyter-widgets/base",
            "_view_module_version": "1.2.0",
            "_view_name": "LayoutView",
            "align_content": null,
            "align_items": null,
            "align_self": null,
            "border": null,
            "bottom": null,
            "display": null,
            "flex": null,
            "flex_flow": null,
            "grid_area": null,
            "grid_auto_columns": null,
            "grid_auto_flow": null,
            "grid_auto_rows": null,
            "grid_column": null,
            "grid_gap": null,
            "grid_row": null,
            "grid_template_areas": null,
            "grid_template_columns": null,
            "grid_template_rows": null,
            "height": null,
            "justify_content": null,
            "justify_items": null,
            "left": null,
            "margin": null,
            "max_height": null,
            "max_width": null,
            "min_height": null,
            "min_width": null,
            "object_fit": null,
            "object_position": null,
            "order": null,
            "overflow": null,
            "overflow_x": null,
            "overflow_y": null,
            "padding": null,
            "right": null,
            "top": null,
            "visibility": null,
            "width": null
          }
        },
        "d59b2d867c6e4a458c29bf943e660959": {
          "model_module": "@jupyter-widgets/base",
          "model_name": "LayoutModel",
          "model_module_version": "1.2.0",
          "state": {
            "_model_module": "@jupyter-widgets/base",
            "_model_module_version": "1.2.0",
            "_model_name": "LayoutModel",
            "_view_count": null,
            "_view_module": "@jupyter-widgets/base",
            "_view_module_version": "1.2.0",
            "_view_name": "LayoutView",
            "align_content": null,
            "align_items": null,
            "align_self": null,
            "border": null,
            "bottom": null,
            "display": null,
            "flex": null,
            "flex_flow": null,
            "grid_area": null,
            "grid_auto_columns": null,
            "grid_auto_flow": null,
            "grid_auto_rows": null,
            "grid_column": null,
            "grid_gap": null,
            "grid_row": null,
            "grid_template_areas": null,
            "grid_template_columns": null,
            "grid_template_rows": null,
            "height": null,
            "justify_content": null,
            "justify_items": null,
            "left": null,
            "margin": null,
            "max_height": null,
            "max_width": null,
            "min_height": null,
            "min_width": null,
            "object_fit": null,
            "object_position": null,
            "order": null,
            "overflow": null,
            "overflow_x": null,
            "overflow_y": null,
            "padding": null,
            "right": null,
            "top": null,
            "visibility": null,
            "width": null
          }
        },
        "94c66fc3a7a84112a6db668bf969e9fd": {
          "model_module": "@jupyter-widgets/controls",
          "model_name": "DescriptionStyleModel",
          "model_module_version": "1.5.0",
          "state": {
            "_model_module": "@jupyter-widgets/controls",
            "_model_module_version": "1.5.0",
            "_model_name": "DescriptionStyleModel",
            "_view_count": null,
            "_view_module": "@jupyter-widgets/base",
            "_view_module_version": "1.2.0",
            "_view_name": "StyleView",
            "description_width": ""
          }
        },
        "a9b224c386f641699e6071b8c7c552d2": {
          "model_module": "@jupyter-widgets/base",
          "model_name": "LayoutModel",
          "model_module_version": "1.2.0",
          "state": {
            "_model_module": "@jupyter-widgets/base",
            "_model_module_version": "1.2.0",
            "_model_name": "LayoutModel",
            "_view_count": null,
            "_view_module": "@jupyter-widgets/base",
            "_view_module_version": "1.2.0",
            "_view_name": "LayoutView",
            "align_content": null,
            "align_items": null,
            "align_self": null,
            "border": null,
            "bottom": null,
            "display": null,
            "flex": null,
            "flex_flow": null,
            "grid_area": null,
            "grid_auto_columns": null,
            "grid_auto_flow": null,
            "grid_auto_rows": null,
            "grid_column": null,
            "grid_gap": null,
            "grid_row": null,
            "grid_template_areas": null,
            "grid_template_columns": null,
            "grid_template_rows": null,
            "height": null,
            "justify_content": null,
            "justify_items": null,
            "left": null,
            "margin": null,
            "max_height": null,
            "max_width": null,
            "min_height": null,
            "min_width": null,
            "object_fit": null,
            "object_position": null,
            "order": null,
            "overflow": null,
            "overflow_x": null,
            "overflow_y": null,
            "padding": null,
            "right": null,
            "top": null,
            "visibility": null,
            "width": null
          }
        },
        "0cd02103a778409d882f4723ce4341bc": {
          "model_module": "@jupyter-widgets/controls",
          "model_name": "ProgressStyleModel",
          "model_module_version": "1.5.0",
          "state": {
            "_model_module": "@jupyter-widgets/controls",
            "_model_module_version": "1.5.0",
            "_model_name": "ProgressStyleModel",
            "_view_count": null,
            "_view_module": "@jupyter-widgets/base",
            "_view_module_version": "1.2.0",
            "_view_name": "StyleView",
            "bar_color": null,
            "description_width": ""
          }
        },
        "a8cfcd299d624a9aa70f1647b1884751": {
          "model_module": "@jupyter-widgets/base",
          "model_name": "LayoutModel",
          "model_module_version": "1.2.0",
          "state": {
            "_model_module": "@jupyter-widgets/base",
            "_model_module_version": "1.2.0",
            "_model_name": "LayoutModel",
            "_view_count": null,
            "_view_module": "@jupyter-widgets/base",
            "_view_module_version": "1.2.0",
            "_view_name": "LayoutView",
            "align_content": null,
            "align_items": null,
            "align_self": null,
            "border": null,
            "bottom": null,
            "display": null,
            "flex": null,
            "flex_flow": null,
            "grid_area": null,
            "grid_auto_columns": null,
            "grid_auto_flow": null,
            "grid_auto_rows": null,
            "grid_column": null,
            "grid_gap": null,
            "grid_row": null,
            "grid_template_areas": null,
            "grid_template_columns": null,
            "grid_template_rows": null,
            "height": null,
            "justify_content": null,
            "justify_items": null,
            "left": null,
            "margin": null,
            "max_height": null,
            "max_width": null,
            "min_height": null,
            "min_width": null,
            "object_fit": null,
            "object_position": null,
            "order": null,
            "overflow": null,
            "overflow_x": null,
            "overflow_y": null,
            "padding": null,
            "right": null,
            "top": null,
            "visibility": null,
            "width": null
          }
        },
        "2f9909f2d15f49199760ac660c5ac3d2": {
          "model_module": "@jupyter-widgets/controls",
          "model_name": "DescriptionStyleModel",
          "model_module_version": "1.5.0",
          "state": {
            "_model_module": "@jupyter-widgets/controls",
            "_model_module_version": "1.5.0",
            "_model_name": "DescriptionStyleModel",
            "_view_count": null,
            "_view_module": "@jupyter-widgets/base",
            "_view_module_version": "1.2.0",
            "_view_name": "StyleView",
            "description_width": ""
          }
        },
        "36d7ed246c36480aa616e4347e33fa3d": {
          "model_module": "@jupyter-widgets/controls",
          "model_name": "HBoxModel",
          "model_module_version": "1.5.0",
          "state": {
            "_dom_classes": [],
            "_model_module": "@jupyter-widgets/controls",
            "_model_module_version": "1.5.0",
            "_model_name": "HBoxModel",
            "_view_count": null,
            "_view_module": "@jupyter-widgets/controls",
            "_view_module_version": "1.5.0",
            "_view_name": "HBoxView",
            "box_style": "",
            "children": [
              "IPY_MODEL_c6521be8cb89456091bf11b5ca11b0dc",
              "IPY_MODEL_4c7ff5782818484787295784b03e9f8b",
              "IPY_MODEL_a52ef0aa5c954c6c81f08cee6349c846"
            ],
            "layout": "IPY_MODEL_38e5e559344949939583b0d1fa850aa5"
          }
        },
        "c6521be8cb89456091bf11b5ca11b0dc": {
          "model_module": "@jupyter-widgets/controls",
          "model_name": "HTMLModel",
          "model_module_version": "1.5.0",
          "state": {
            "_dom_classes": [],
            "_model_module": "@jupyter-widgets/controls",
            "_model_module_version": "1.5.0",
            "_model_name": "HTMLModel",
            "_view_count": null,
            "_view_module": "@jupyter-widgets/controls",
            "_view_module_version": "1.5.0",
            "_view_name": "HTMLView",
            "description": "",
            "description_tooltip": null,
            "layout": "IPY_MODEL_6731db04b6b84b85aa58ec62fbe2348b",
            "placeholder": "​",
            "style": "IPY_MODEL_cb0cc943bf554f6492a2336e8ec84647",
            "value": "config.json: 100%"
          }
        },
        "4c7ff5782818484787295784b03e9f8b": {
          "model_module": "@jupyter-widgets/controls",
          "model_name": "FloatProgressModel",
          "model_module_version": "1.5.0",
          "state": {
            "_dom_classes": [],
            "_model_module": "@jupyter-widgets/controls",
            "_model_module_version": "1.5.0",
            "_model_name": "FloatProgressModel",
            "_view_count": null,
            "_view_module": "@jupyter-widgets/controls",
            "_view_module_version": "1.5.0",
            "_view_name": "ProgressView",
            "bar_style": "success",
            "description": "",
            "description_tooltip": null,
            "layout": "IPY_MODEL_cec72ee2a679446ca68bf51c21443199",
            "max": 483,
            "min": 0,
            "orientation": "horizontal",
            "style": "IPY_MODEL_bcd8fabc5fa64b908b8886eb01bf9dc7",
            "value": 483
          }
        },
        "a52ef0aa5c954c6c81f08cee6349c846": {
          "model_module": "@jupyter-widgets/controls",
          "model_name": "HTMLModel",
          "model_module_version": "1.5.0",
          "state": {
            "_dom_classes": [],
            "_model_module": "@jupyter-widgets/controls",
            "_model_module_version": "1.5.0",
            "_model_name": "HTMLModel",
            "_view_count": null,
            "_view_module": "@jupyter-widgets/controls",
            "_view_module_version": "1.5.0",
            "_view_name": "HTMLView",
            "description": "",
            "description_tooltip": null,
            "layout": "IPY_MODEL_6724bfab705a4fbba1813e9a5397ca04",
            "placeholder": "​",
            "style": "IPY_MODEL_91a774d990ef4b7ba6b4a8d1ba91f467",
            "value": " 483/483 [00:00&lt;00:00, 17.1kB/s]"
          }
        },
        "38e5e559344949939583b0d1fa850aa5": {
          "model_module": "@jupyter-widgets/base",
          "model_name": "LayoutModel",
          "model_module_version": "1.2.0",
          "state": {
            "_model_module": "@jupyter-widgets/base",
            "_model_module_version": "1.2.0",
            "_model_name": "LayoutModel",
            "_view_count": null,
            "_view_module": "@jupyter-widgets/base",
            "_view_module_version": "1.2.0",
            "_view_name": "LayoutView",
            "align_content": null,
            "align_items": null,
            "align_self": null,
            "border": null,
            "bottom": null,
            "display": null,
            "flex": null,
            "flex_flow": null,
            "grid_area": null,
            "grid_auto_columns": null,
            "grid_auto_flow": null,
            "grid_auto_rows": null,
            "grid_column": null,
            "grid_gap": null,
            "grid_row": null,
            "grid_template_areas": null,
            "grid_template_columns": null,
            "grid_template_rows": null,
            "height": null,
            "justify_content": null,
            "justify_items": null,
            "left": null,
            "margin": null,
            "max_height": null,
            "max_width": null,
            "min_height": null,
            "min_width": null,
            "object_fit": null,
            "object_position": null,
            "order": null,
            "overflow": null,
            "overflow_x": null,
            "overflow_y": null,
            "padding": null,
            "right": null,
            "top": null,
            "visibility": null,
            "width": null
          }
        },
        "6731db04b6b84b85aa58ec62fbe2348b": {
          "model_module": "@jupyter-widgets/base",
          "model_name": "LayoutModel",
          "model_module_version": "1.2.0",
          "state": {
            "_model_module": "@jupyter-widgets/base",
            "_model_module_version": "1.2.0",
            "_model_name": "LayoutModel",
            "_view_count": null,
            "_view_module": "@jupyter-widgets/base",
            "_view_module_version": "1.2.0",
            "_view_name": "LayoutView",
            "align_content": null,
            "align_items": null,
            "align_self": null,
            "border": null,
            "bottom": null,
            "display": null,
            "flex": null,
            "flex_flow": null,
            "grid_area": null,
            "grid_auto_columns": null,
            "grid_auto_flow": null,
            "grid_auto_rows": null,
            "grid_column": null,
            "grid_gap": null,
            "grid_row": null,
            "grid_template_areas": null,
            "grid_template_columns": null,
            "grid_template_rows": null,
            "height": null,
            "justify_content": null,
            "justify_items": null,
            "left": null,
            "margin": null,
            "max_height": null,
            "max_width": null,
            "min_height": null,
            "min_width": null,
            "object_fit": null,
            "object_position": null,
            "order": null,
            "overflow": null,
            "overflow_x": null,
            "overflow_y": null,
            "padding": null,
            "right": null,
            "top": null,
            "visibility": null,
            "width": null
          }
        },
        "cb0cc943bf554f6492a2336e8ec84647": {
          "model_module": "@jupyter-widgets/controls",
          "model_name": "DescriptionStyleModel",
          "model_module_version": "1.5.0",
          "state": {
            "_model_module": "@jupyter-widgets/controls",
            "_model_module_version": "1.5.0",
            "_model_name": "DescriptionStyleModel",
            "_view_count": null,
            "_view_module": "@jupyter-widgets/base",
            "_view_module_version": "1.2.0",
            "_view_name": "StyleView",
            "description_width": ""
          }
        },
        "cec72ee2a679446ca68bf51c21443199": {
          "model_module": "@jupyter-widgets/base",
          "model_name": "LayoutModel",
          "model_module_version": "1.2.0",
          "state": {
            "_model_module": "@jupyter-widgets/base",
            "_model_module_version": "1.2.0",
            "_model_name": "LayoutModel",
            "_view_count": null,
            "_view_module": "@jupyter-widgets/base",
            "_view_module_version": "1.2.0",
            "_view_name": "LayoutView",
            "align_content": null,
            "align_items": null,
            "align_self": null,
            "border": null,
            "bottom": null,
            "display": null,
            "flex": null,
            "flex_flow": null,
            "grid_area": null,
            "grid_auto_columns": null,
            "grid_auto_flow": null,
            "grid_auto_rows": null,
            "grid_column": null,
            "grid_gap": null,
            "grid_row": null,
            "grid_template_areas": null,
            "grid_template_columns": null,
            "grid_template_rows": null,
            "height": null,
            "justify_content": null,
            "justify_items": null,
            "left": null,
            "margin": null,
            "max_height": null,
            "max_width": null,
            "min_height": null,
            "min_width": null,
            "object_fit": null,
            "object_position": null,
            "order": null,
            "overflow": null,
            "overflow_x": null,
            "overflow_y": null,
            "padding": null,
            "right": null,
            "top": null,
            "visibility": null,
            "width": null
          }
        },
        "bcd8fabc5fa64b908b8886eb01bf9dc7": {
          "model_module": "@jupyter-widgets/controls",
          "model_name": "ProgressStyleModel",
          "model_module_version": "1.5.0",
          "state": {
            "_model_module": "@jupyter-widgets/controls",
            "_model_module_version": "1.5.0",
            "_model_name": "ProgressStyleModel",
            "_view_count": null,
            "_view_module": "@jupyter-widgets/base",
            "_view_module_version": "1.2.0",
            "_view_name": "StyleView",
            "bar_color": null,
            "description_width": ""
          }
        },
        "6724bfab705a4fbba1813e9a5397ca04": {
          "model_module": "@jupyter-widgets/base",
          "model_name": "LayoutModel",
          "model_module_version": "1.2.0",
          "state": {
            "_model_module": "@jupyter-widgets/base",
            "_model_module_version": "1.2.0",
            "_model_name": "LayoutModel",
            "_view_count": null,
            "_view_module": "@jupyter-widgets/base",
            "_view_module_version": "1.2.0",
            "_view_name": "LayoutView",
            "align_content": null,
            "align_items": null,
            "align_self": null,
            "border": null,
            "bottom": null,
            "display": null,
            "flex": null,
            "flex_flow": null,
            "grid_area": null,
            "grid_auto_columns": null,
            "grid_auto_flow": null,
            "grid_auto_rows": null,
            "grid_column": null,
            "grid_gap": null,
            "grid_row": null,
            "grid_template_areas": null,
            "grid_template_columns": null,
            "grid_template_rows": null,
            "height": null,
            "justify_content": null,
            "justify_items": null,
            "left": null,
            "margin": null,
            "max_height": null,
            "max_width": null,
            "min_height": null,
            "min_width": null,
            "object_fit": null,
            "object_position": null,
            "order": null,
            "overflow": null,
            "overflow_x": null,
            "overflow_y": null,
            "padding": null,
            "right": null,
            "top": null,
            "visibility": null,
            "width": null
          }
        },
        "91a774d990ef4b7ba6b4a8d1ba91f467": {
          "model_module": "@jupyter-widgets/controls",
          "model_name": "DescriptionStyleModel",
          "model_module_version": "1.5.0",
          "state": {
            "_model_module": "@jupyter-widgets/controls",
            "_model_module_version": "1.5.0",
            "_model_name": "DescriptionStyleModel",
            "_view_count": null,
            "_view_module": "@jupyter-widgets/base",
            "_view_module_version": "1.2.0",
            "_view_name": "StyleView",
            "description_width": ""
          }
        },
        "bf5e38e511344c8bb9b92f0921c35b5c": {
          "model_module": "@jupyter-widgets/controls",
          "model_name": "HBoxModel",
          "model_module_version": "1.5.0",
          "state": {
            "_dom_classes": [],
            "_model_module": "@jupyter-widgets/controls",
            "_model_module_version": "1.5.0",
            "_model_name": "HBoxModel",
            "_view_count": null,
            "_view_module": "@jupyter-widgets/controls",
            "_view_module_version": "1.5.0",
            "_view_name": "HBoxView",
            "box_style": "",
            "children": [
              "IPY_MODEL_8581b879a96f4b4b8b40f767bfed762c",
              "IPY_MODEL_7f64a61578fd4dfbb0453c99ef297f93",
              "IPY_MODEL_cd46f03ec1c84ec99d57d3c43299acb0"
            ],
            "layout": "IPY_MODEL_75c017fcce934ca39b0df0115a9ee900"
          }
        },
        "8581b879a96f4b4b8b40f767bfed762c": {
          "model_module": "@jupyter-widgets/controls",
          "model_name": "HTMLModel",
          "model_module_version": "1.5.0",
          "state": {
            "_dom_classes": [],
            "_model_module": "@jupyter-widgets/controls",
            "_model_module_version": "1.5.0",
            "_model_name": "HTMLModel",
            "_view_count": null,
            "_view_module": "@jupyter-widgets/controls",
            "_view_module_version": "1.5.0",
            "_view_name": "HTMLView",
            "description": "",
            "description_tooltip": null,
            "layout": "IPY_MODEL_40670f2e960c456999bd496fe50d6c4c",
            "placeholder": "​",
            "style": "IPY_MODEL_d504c31fced24fd9ae62f3ac69f58d10",
            "value": "model.safetensors: 100%"
          }
        },
        "7f64a61578fd4dfbb0453c99ef297f93": {
          "model_module": "@jupyter-widgets/controls",
          "model_name": "FloatProgressModel",
          "model_module_version": "1.5.0",
          "state": {
            "_dom_classes": [],
            "_model_module": "@jupyter-widgets/controls",
            "_model_module_version": "1.5.0",
            "_model_name": "FloatProgressModel",
            "_view_count": null,
            "_view_module": "@jupyter-widgets/controls",
            "_view_module_version": "1.5.0",
            "_view_name": "ProgressView",
            "bar_style": "success",
            "description": "",
            "description_tooltip": null,
            "layout": "IPY_MODEL_f435781374964d80ba0e6b507b084a7b",
            "max": 267954768,
            "min": 0,
            "orientation": "horizontal",
            "style": "IPY_MODEL_dfd8e6d0e57d4eb8abc15064d599c79f",
            "value": 267954768
          }
        },
        "cd46f03ec1c84ec99d57d3c43299acb0": {
          "model_module": "@jupyter-widgets/controls",
          "model_name": "HTMLModel",
          "model_module_version": "1.5.0",
          "state": {
            "_dom_classes": [],
            "_model_module": "@jupyter-widgets/controls",
            "_model_module_version": "1.5.0",
            "_model_name": "HTMLModel",
            "_view_count": null,
            "_view_module": "@jupyter-widgets/controls",
            "_view_module_version": "1.5.0",
            "_view_name": "HTMLView",
            "description": "",
            "description_tooltip": null,
            "layout": "IPY_MODEL_4617fd5e08e3456a962d28b6fc477944",
            "placeholder": "​",
            "style": "IPY_MODEL_001d0eac617046869d7104f4c85a2966",
            "value": " 268M/268M [00:01&lt;00:00, 203MB/s]"
          }
        },
        "75c017fcce934ca39b0df0115a9ee900": {
          "model_module": "@jupyter-widgets/base",
          "model_name": "LayoutModel",
          "model_module_version": "1.2.0",
          "state": {
            "_model_module": "@jupyter-widgets/base",
            "_model_module_version": "1.2.0",
            "_model_name": "LayoutModel",
            "_view_count": null,
            "_view_module": "@jupyter-widgets/base",
            "_view_module_version": "1.2.0",
            "_view_name": "LayoutView",
            "align_content": null,
            "align_items": null,
            "align_self": null,
            "border": null,
            "bottom": null,
            "display": null,
            "flex": null,
            "flex_flow": null,
            "grid_area": null,
            "grid_auto_columns": null,
            "grid_auto_flow": null,
            "grid_auto_rows": null,
            "grid_column": null,
            "grid_gap": null,
            "grid_row": null,
            "grid_template_areas": null,
            "grid_template_columns": null,
            "grid_template_rows": null,
            "height": null,
            "justify_content": null,
            "justify_items": null,
            "left": null,
            "margin": null,
            "max_height": null,
            "max_width": null,
            "min_height": null,
            "min_width": null,
            "object_fit": null,
            "object_position": null,
            "order": null,
            "overflow": null,
            "overflow_x": null,
            "overflow_y": null,
            "padding": null,
            "right": null,
            "top": null,
            "visibility": null,
            "width": null
          }
        },
        "40670f2e960c456999bd496fe50d6c4c": {
          "model_module": "@jupyter-widgets/base",
          "model_name": "LayoutModel",
          "model_module_version": "1.2.0",
          "state": {
            "_model_module": "@jupyter-widgets/base",
            "_model_module_version": "1.2.0",
            "_model_name": "LayoutModel",
            "_view_count": null,
            "_view_module": "@jupyter-widgets/base",
            "_view_module_version": "1.2.0",
            "_view_name": "LayoutView",
            "align_content": null,
            "align_items": null,
            "align_self": null,
            "border": null,
            "bottom": null,
            "display": null,
            "flex": null,
            "flex_flow": null,
            "grid_area": null,
            "grid_auto_columns": null,
            "grid_auto_flow": null,
            "grid_auto_rows": null,
            "grid_column": null,
            "grid_gap": null,
            "grid_row": null,
            "grid_template_areas": null,
            "grid_template_columns": null,
            "grid_template_rows": null,
            "height": null,
            "justify_content": null,
            "justify_items": null,
            "left": null,
            "margin": null,
            "max_height": null,
            "max_width": null,
            "min_height": null,
            "min_width": null,
            "object_fit": null,
            "object_position": null,
            "order": null,
            "overflow": null,
            "overflow_x": null,
            "overflow_y": null,
            "padding": null,
            "right": null,
            "top": null,
            "visibility": null,
            "width": null
          }
        },
        "d504c31fced24fd9ae62f3ac69f58d10": {
          "model_module": "@jupyter-widgets/controls",
          "model_name": "DescriptionStyleModel",
          "model_module_version": "1.5.0",
          "state": {
            "_model_module": "@jupyter-widgets/controls",
            "_model_module_version": "1.5.0",
            "_model_name": "DescriptionStyleModel",
            "_view_count": null,
            "_view_module": "@jupyter-widgets/base",
            "_view_module_version": "1.2.0",
            "_view_name": "StyleView",
            "description_width": ""
          }
        },
        "f435781374964d80ba0e6b507b084a7b": {
          "model_module": "@jupyter-widgets/base",
          "model_name": "LayoutModel",
          "model_module_version": "1.2.0",
          "state": {
            "_model_module": "@jupyter-widgets/base",
            "_model_module_version": "1.2.0",
            "_model_name": "LayoutModel",
            "_view_count": null,
            "_view_module": "@jupyter-widgets/base",
            "_view_module_version": "1.2.0",
            "_view_name": "LayoutView",
            "align_content": null,
            "align_items": null,
            "align_self": null,
            "border": null,
            "bottom": null,
            "display": null,
            "flex": null,
            "flex_flow": null,
            "grid_area": null,
            "grid_auto_columns": null,
            "grid_auto_flow": null,
            "grid_auto_rows": null,
            "grid_column": null,
            "grid_gap": null,
            "grid_row": null,
            "grid_template_areas": null,
            "grid_template_columns": null,
            "grid_template_rows": null,
            "height": null,
            "justify_content": null,
            "justify_items": null,
            "left": null,
            "margin": null,
            "max_height": null,
            "max_width": null,
            "min_height": null,
            "min_width": null,
            "object_fit": null,
            "object_position": null,
            "order": null,
            "overflow": null,
            "overflow_x": null,
            "overflow_y": null,
            "padding": null,
            "right": null,
            "top": null,
            "visibility": null,
            "width": null
          }
        },
        "dfd8e6d0e57d4eb8abc15064d599c79f": {
          "model_module": "@jupyter-widgets/controls",
          "model_name": "ProgressStyleModel",
          "model_module_version": "1.5.0",
          "state": {
            "_model_module": "@jupyter-widgets/controls",
            "_model_module_version": "1.5.0",
            "_model_name": "ProgressStyleModel",
            "_view_count": null,
            "_view_module": "@jupyter-widgets/base",
            "_view_module_version": "1.2.0",
            "_view_name": "StyleView",
            "bar_color": null,
            "description_width": ""
          }
        },
        "4617fd5e08e3456a962d28b6fc477944": {
          "model_module": "@jupyter-widgets/base",
          "model_name": "LayoutModel",
          "model_module_version": "1.2.0",
          "state": {
            "_model_module": "@jupyter-widgets/base",
            "_model_module_version": "1.2.0",
            "_model_name": "LayoutModel",
            "_view_count": null,
            "_view_module": "@jupyter-widgets/base",
            "_view_module_version": "1.2.0",
            "_view_name": "LayoutView",
            "align_content": null,
            "align_items": null,
            "align_self": null,
            "border": null,
            "bottom": null,
            "display": null,
            "flex": null,
            "flex_flow": null,
            "grid_area": null,
            "grid_auto_columns": null,
            "grid_auto_flow": null,
            "grid_auto_rows": null,
            "grid_column": null,
            "grid_gap": null,
            "grid_row": null,
            "grid_template_areas": null,
            "grid_template_columns": null,
            "grid_template_rows": null,
            "height": null,
            "justify_content": null,
            "justify_items": null,
            "left": null,
            "margin": null,
            "max_height": null,
            "max_width": null,
            "min_height": null,
            "min_width": null,
            "object_fit": null,
            "object_position": null,
            "order": null,
            "overflow": null,
            "overflow_x": null,
            "overflow_y": null,
            "padding": null,
            "right": null,
            "top": null,
            "visibility": null,
            "width": null
          }
        },
        "001d0eac617046869d7104f4c85a2966": {
          "model_module": "@jupyter-widgets/controls",
          "model_name": "DescriptionStyleModel",
          "model_module_version": "1.5.0",
          "state": {
            "_model_module": "@jupyter-widgets/controls",
            "_model_module_version": "1.5.0",
            "_model_name": "DescriptionStyleModel",
            "_view_count": null,
            "_view_module": "@jupyter-widgets/base",
            "_view_module_version": "1.2.0",
            "_view_name": "StyleView",
            "description_width": ""
          }
        }
      }
    }
  },
  "nbformat": 4,
  "nbformat_minor": 0
}